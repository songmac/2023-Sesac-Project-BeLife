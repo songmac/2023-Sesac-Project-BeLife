{
  "cells": [
    {
      "cell_type": "markdown",
      "source": [
        "# 기초 실행 코드"
      ],
      "metadata": {
        "id": "Yh4vGnveBPsE"
      }
    },
    {
      "cell_type": "markdown",
      "source": [
        "### xlsx -> csv 파일로 변환 (필요할 때 실행)"
      ],
      "metadata": {
        "id": "9Rbh6e3Tfd8n"
      }
    },
    {
      "cell_type": "code",
      "source": [
        "import pandas as pd\n",
        "\n",
        "# xlsx 파일 경로\n",
        "xlsx_file_path = '/content/drive/MyDrive/Project_BeLife/data/clean_data.xlsx'\n",
        "\n",
        "# csv 파일로 변환할 경로 및 파일 이름\n",
        "csv_file_path = '/content/drive/MyDrive/Project_BeLife/data/clean_data.csv'\n",
        "\n",
        "# xlsx 파일을 pandas DataFrame으로 읽기\n",
        "df = pd.read_excel(xlsx_file_path)\n",
        "\n",
        "# DataFrame을 csv 파일로 저장\n",
        "df.to_csv(csv_file_path, index=False)\n",
        "\n",
        "# 결과 출력\n",
        "print(f\"Conversion completed. CSV file saved at: {csv_file_path}\")"
      ],
      "metadata": {
        "id": "8Tp0XTv8fA7y"
      },
      "execution_count": null,
      "outputs": []
    },
    {
      "cell_type": "markdown",
      "source": [
        "### 나눔고딕 설치 (한 번 실행 후 런타임 재연결)"
      ],
      "metadata": {
        "id": "qmUX6Q1Zn-vD"
      }
    },
    {
      "cell_type": "code",
      "source": [
        "!sudo apt-get install -y fonts-nanum\n",
        "!sudo fc-cache -fv\n",
        "!rm ~/.cache/matplotlib -rf"
      ],
      "metadata": {
        "colab": {
          "base_uri": "https://localhost:8080/"
        },
        "id": "8KR637cIv8AJ",
        "outputId": "1f2489ae-0890-40e1-d40f-d3ebf549d830"
      },
      "execution_count": 1,
      "outputs": [
        {
          "output_type": "stream",
          "name": "stdout",
          "text": [
            "Reading package lists... Done\n",
            "Building dependency tree... Done\n",
            "Reading state information... Done\n",
            "The following NEW packages will be installed:\n",
            "  fonts-nanum\n",
            "0 upgraded, 1 newly installed, 0 to remove and 10 not upgraded.\n",
            "Need to get 10.3 MB of archives.\n",
            "After this operation, 34.1 MB of additional disk space will be used.\n",
            "Get:1 http://archive.ubuntu.com/ubuntu jammy/universe amd64 fonts-nanum all 20200506-1 [10.3 MB]\n",
            "Fetched 10.3 MB in 1s (9,805 kB/s)\n",
            "debconf: unable to initialize frontend: Dialog\n",
            "debconf: (No usable dialog-like program is installed, so the dialog based frontend cannot be used. at /usr/share/perl5/Debconf/FrontEnd/Dialog.pm line 78, <> line 1.)\n",
            "debconf: falling back to frontend: Readline\n",
            "debconf: unable to initialize frontend: Readline\n",
            "debconf: (This frontend requires a controlling tty.)\n",
            "debconf: falling back to frontend: Teletype\n",
            "dpkg-preconfigure: unable to re-open stdin: \n",
            "Selecting previously unselected package fonts-nanum.\n",
            "(Reading database ... 120880 files and directories currently installed.)\n",
            "Preparing to unpack .../fonts-nanum_20200506-1_all.deb ...\n",
            "Unpacking fonts-nanum (20200506-1) ...\n",
            "Setting up fonts-nanum (20200506-1) ...\n",
            "Processing triggers for fontconfig (2.13.1-4.2ubuntu5) ...\n",
            "/usr/share/fonts: caching, new cache contents: 0 fonts, 1 dirs\n",
            "/usr/share/fonts/truetype: caching, new cache contents: 0 fonts, 3 dirs\n",
            "/usr/share/fonts/truetype/humor-sans: caching, new cache contents: 1 fonts, 0 dirs\n",
            "/usr/share/fonts/truetype/liberation: caching, new cache contents: 16 fonts, 0 dirs\n",
            "/usr/share/fonts/truetype/nanum: caching, new cache contents: 12 fonts, 0 dirs\n",
            "/usr/local/share/fonts: caching, new cache contents: 0 fonts, 0 dirs\n",
            "/root/.local/share/fonts: skipping, no such directory\n",
            "/root/.fonts: skipping, no such directory\n",
            "/usr/share/fonts/truetype: skipping, looped directory detected\n",
            "/usr/share/fonts/truetype/humor-sans: skipping, looped directory detected\n",
            "/usr/share/fonts/truetype/liberation: skipping, looped directory detected\n",
            "/usr/share/fonts/truetype/nanum: skipping, looped directory detected\n",
            "/var/cache/fontconfig: cleaning cache directory\n",
            "/root/.cache/fontconfig: not cleaning non-existent cache directory\n",
            "/root/.fontconfig: not cleaning non-existent cache directory\n",
            "fc-cache: succeeded\n"
          ]
        }
      ]
    },
    {
      "cell_type": "markdown",
      "metadata": {
        "id": "TaFzAQNSWMdr"
      },
      "source": [
        "# 데이터 불러오기"
      ]
    },
    {
      "cell_type": "markdown",
      "source": [
        "## 사용자 선호도평점 데이터 (rating_df)"
      ],
      "metadata": {
        "id": "PS2w_rfTgo54"
      }
    },
    {
      "cell_type": "code",
      "execution_count": 1,
      "metadata": {
        "colab": {
          "base_uri": "https://localhost:8080/",
          "height": 206
        },
        "id": "A8oPR1E6qERx",
        "outputId": "d1fd4f83-ed81-4074-802b-c353eddd6548"
      },
      "outputs": [
        {
          "output_type": "execute_result",
          "data": {
            "text/plain": [
              "   사용자   건강상태     운동목표 연령대       거주지   선호빈도 선호시간대 선호인원수   선호운동 장애유무   중요항목\n",
              "0    1  대사증후군  심폐지구력향상  학생  양천구신정제3동    주2회    무관    무관  구기및라켓    무    거주지\n",
              "1    2  대사증후군  심폐지구력향상  학생  강서구등촌제2동  주4회이상    오전  5명이하  구기및라켓    무   선호운동\n",
              "2    3   관절질환       무관  노인  강남구대치제1동    주3회    무관  5명이하  구기및라켓    무    연령대\n",
              "3    4  대사증후군  심폐지구력향상  성인  서초구반포제1동    주2회    오전  5명이상  구기및라켓    유  선호시간대\n",
              "4    5   혈압질환  심폐지구력향상  학생    강북구송중동    주2회    오후  5명이상     민속    무   건강상태"
            ],
            "text/html": [
              "\n",
              "  <div id=\"df-a5cd7cab-6421-44a7-9ad7-286e1dd23f87\" class=\"colab-df-container\">\n",
              "    <div>\n",
              "<style scoped>\n",
              "    .dataframe tbody tr th:only-of-type {\n",
              "        vertical-align: middle;\n",
              "    }\n",
              "\n",
              "    .dataframe tbody tr th {\n",
              "        vertical-align: top;\n",
              "    }\n",
              "\n",
              "    .dataframe thead th {\n",
              "        text-align: right;\n",
              "    }\n",
              "</style>\n",
              "<table border=\"1\" class=\"dataframe\">\n",
              "  <thead>\n",
              "    <tr style=\"text-align: right;\">\n",
              "      <th></th>\n",
              "      <th>사용자</th>\n",
              "      <th>건강상태</th>\n",
              "      <th>운동목표</th>\n",
              "      <th>연령대</th>\n",
              "      <th>거주지</th>\n",
              "      <th>선호빈도</th>\n",
              "      <th>선호시간대</th>\n",
              "      <th>선호인원수</th>\n",
              "      <th>선호운동</th>\n",
              "      <th>장애유무</th>\n",
              "      <th>중요항목</th>\n",
              "    </tr>\n",
              "  </thead>\n",
              "  <tbody>\n",
              "    <tr>\n",
              "      <th>0</th>\n",
              "      <td>1</td>\n",
              "      <td>대사증후군</td>\n",
              "      <td>심폐지구력향상</td>\n",
              "      <td>학생</td>\n",
              "      <td>양천구신정제3동</td>\n",
              "      <td>주2회</td>\n",
              "      <td>무관</td>\n",
              "      <td>무관</td>\n",
              "      <td>구기및라켓</td>\n",
              "      <td>무</td>\n",
              "      <td>거주지</td>\n",
              "    </tr>\n",
              "    <tr>\n",
              "      <th>1</th>\n",
              "      <td>2</td>\n",
              "      <td>대사증후군</td>\n",
              "      <td>심폐지구력향상</td>\n",
              "      <td>학생</td>\n",
              "      <td>강서구등촌제2동</td>\n",
              "      <td>주4회이상</td>\n",
              "      <td>오전</td>\n",
              "      <td>5명이하</td>\n",
              "      <td>구기및라켓</td>\n",
              "      <td>무</td>\n",
              "      <td>선호운동</td>\n",
              "    </tr>\n",
              "    <tr>\n",
              "      <th>2</th>\n",
              "      <td>3</td>\n",
              "      <td>관절질환</td>\n",
              "      <td>무관</td>\n",
              "      <td>노인</td>\n",
              "      <td>강남구대치제1동</td>\n",
              "      <td>주3회</td>\n",
              "      <td>무관</td>\n",
              "      <td>5명이하</td>\n",
              "      <td>구기및라켓</td>\n",
              "      <td>무</td>\n",
              "      <td>연령대</td>\n",
              "    </tr>\n",
              "    <tr>\n",
              "      <th>3</th>\n",
              "      <td>4</td>\n",
              "      <td>대사증후군</td>\n",
              "      <td>심폐지구력향상</td>\n",
              "      <td>성인</td>\n",
              "      <td>서초구반포제1동</td>\n",
              "      <td>주2회</td>\n",
              "      <td>오전</td>\n",
              "      <td>5명이상</td>\n",
              "      <td>구기및라켓</td>\n",
              "      <td>유</td>\n",
              "      <td>선호시간대</td>\n",
              "    </tr>\n",
              "    <tr>\n",
              "      <th>4</th>\n",
              "      <td>5</td>\n",
              "      <td>혈압질환</td>\n",
              "      <td>심폐지구력향상</td>\n",
              "      <td>학생</td>\n",
              "      <td>강북구송중동</td>\n",
              "      <td>주2회</td>\n",
              "      <td>오후</td>\n",
              "      <td>5명이상</td>\n",
              "      <td>민속</td>\n",
              "      <td>무</td>\n",
              "      <td>건강상태</td>\n",
              "    </tr>\n",
              "  </tbody>\n",
              "</table>\n",
              "</div>\n",
              "    <div class=\"colab-df-buttons\">\n",
              "\n",
              "  <div class=\"colab-df-container\">\n",
              "    <button class=\"colab-df-convert\" onclick=\"convertToInteractive('df-a5cd7cab-6421-44a7-9ad7-286e1dd23f87')\"\n",
              "            title=\"Convert this dataframe to an interactive table.\"\n",
              "            style=\"display:none;\">\n",
              "\n",
              "  <svg xmlns=\"http://www.w3.org/2000/svg\" height=\"24px\" viewBox=\"0 -960 960 960\">\n",
              "    <path d=\"M120-120v-720h720v720H120Zm60-500h600v-160H180v160Zm220 220h160v-160H400v160Zm0 220h160v-160H400v160ZM180-400h160v-160H180v160Zm440 0h160v-160H620v160ZM180-180h160v-160H180v160Zm440 0h160v-160H620v160Z\"/>\n",
              "  </svg>\n",
              "    </button>\n",
              "\n",
              "  <style>\n",
              "    .colab-df-container {\n",
              "      display:flex;\n",
              "      gap: 12px;\n",
              "    }\n",
              "\n",
              "    .colab-df-convert {\n",
              "      background-color: #E8F0FE;\n",
              "      border: none;\n",
              "      border-radius: 50%;\n",
              "      cursor: pointer;\n",
              "      display: none;\n",
              "      fill: #1967D2;\n",
              "      height: 32px;\n",
              "      padding: 0 0 0 0;\n",
              "      width: 32px;\n",
              "    }\n",
              "\n",
              "    .colab-df-convert:hover {\n",
              "      background-color: #E2EBFA;\n",
              "      box-shadow: 0px 1px 2px rgba(60, 64, 67, 0.3), 0px 1px 3px 1px rgba(60, 64, 67, 0.15);\n",
              "      fill: #174EA6;\n",
              "    }\n",
              "\n",
              "    .colab-df-buttons div {\n",
              "      margin-bottom: 4px;\n",
              "    }\n",
              "\n",
              "    [theme=dark] .colab-df-convert {\n",
              "      background-color: #3B4455;\n",
              "      fill: #D2E3FC;\n",
              "    }\n",
              "\n",
              "    [theme=dark] .colab-df-convert:hover {\n",
              "      background-color: #434B5C;\n",
              "      box-shadow: 0px 1px 3px 1px rgba(0, 0, 0, 0.15);\n",
              "      filter: drop-shadow(0px 1px 2px rgba(0, 0, 0, 0.3));\n",
              "      fill: #FFFFFF;\n",
              "    }\n",
              "  </style>\n",
              "\n",
              "    <script>\n",
              "      const buttonEl =\n",
              "        document.querySelector('#df-a5cd7cab-6421-44a7-9ad7-286e1dd23f87 button.colab-df-convert');\n",
              "      buttonEl.style.display =\n",
              "        google.colab.kernel.accessAllowed ? 'block' : 'none';\n",
              "\n",
              "      async function convertToInteractive(key) {\n",
              "        const element = document.querySelector('#df-a5cd7cab-6421-44a7-9ad7-286e1dd23f87');\n",
              "        const dataTable =\n",
              "          await google.colab.kernel.invokeFunction('convertToInteractive',\n",
              "                                                    [key], {});\n",
              "        if (!dataTable) return;\n",
              "\n",
              "        const docLinkHtml = 'Like what you see? Visit the ' +\n",
              "          '<a target=\"_blank\" href=https://colab.research.google.com/notebooks/data_table.ipynb>data table notebook</a>'\n",
              "          + ' to learn more about interactive tables.';\n",
              "        element.innerHTML = '';\n",
              "        dataTable['output_type'] = 'display_data';\n",
              "        await google.colab.output.renderOutput(dataTable, element);\n",
              "        const docLink = document.createElement('div');\n",
              "        docLink.innerHTML = docLinkHtml;\n",
              "        element.appendChild(docLink);\n",
              "      }\n",
              "    </script>\n",
              "  </div>\n",
              "\n",
              "\n",
              "<div id=\"df-f80b02b8-c7f8-4b7d-b71e-edd1144ca7a1\">\n",
              "  <button class=\"colab-df-quickchart\" onclick=\"quickchart('df-f80b02b8-c7f8-4b7d-b71e-edd1144ca7a1')\"\n",
              "            title=\"Suggest charts\"\n",
              "            style=\"display:none;\">\n",
              "\n",
              "<svg xmlns=\"http://www.w3.org/2000/svg\" height=\"24px\"viewBox=\"0 0 24 24\"\n",
              "     width=\"24px\">\n",
              "    <g>\n",
              "        <path d=\"M19 3H5c-1.1 0-2 .9-2 2v14c0 1.1.9 2 2 2h14c1.1 0 2-.9 2-2V5c0-1.1-.9-2-2-2zM9 17H7v-7h2v7zm4 0h-2V7h2v10zm4 0h-2v-4h2v4z\"/>\n",
              "    </g>\n",
              "</svg>\n",
              "  </button>\n",
              "\n",
              "<style>\n",
              "  .colab-df-quickchart {\n",
              "      --bg-color: #E8F0FE;\n",
              "      --fill-color: #1967D2;\n",
              "      --hover-bg-color: #E2EBFA;\n",
              "      --hover-fill-color: #174EA6;\n",
              "      --disabled-fill-color: #AAA;\n",
              "      --disabled-bg-color: #DDD;\n",
              "  }\n",
              "\n",
              "  [theme=dark] .colab-df-quickchart {\n",
              "      --bg-color: #3B4455;\n",
              "      --fill-color: #D2E3FC;\n",
              "      --hover-bg-color: #434B5C;\n",
              "      --hover-fill-color: #FFFFFF;\n",
              "      --disabled-bg-color: #3B4455;\n",
              "      --disabled-fill-color: #666;\n",
              "  }\n",
              "\n",
              "  .colab-df-quickchart {\n",
              "    background-color: var(--bg-color);\n",
              "    border: none;\n",
              "    border-radius: 50%;\n",
              "    cursor: pointer;\n",
              "    display: none;\n",
              "    fill: var(--fill-color);\n",
              "    height: 32px;\n",
              "    padding: 0;\n",
              "    width: 32px;\n",
              "  }\n",
              "\n",
              "  .colab-df-quickchart:hover {\n",
              "    background-color: var(--hover-bg-color);\n",
              "    box-shadow: 0 1px 2px rgba(60, 64, 67, 0.3), 0 1px 3px 1px rgba(60, 64, 67, 0.15);\n",
              "    fill: var(--button-hover-fill-color);\n",
              "  }\n",
              "\n",
              "  .colab-df-quickchart-complete:disabled,\n",
              "  .colab-df-quickchart-complete:disabled:hover {\n",
              "    background-color: var(--disabled-bg-color);\n",
              "    fill: var(--disabled-fill-color);\n",
              "    box-shadow: none;\n",
              "  }\n",
              "\n",
              "  .colab-df-spinner {\n",
              "    border: 2px solid var(--fill-color);\n",
              "    border-color: transparent;\n",
              "    border-bottom-color: var(--fill-color);\n",
              "    animation:\n",
              "      spin 1s steps(1) infinite;\n",
              "  }\n",
              "\n",
              "  @keyframes spin {\n",
              "    0% {\n",
              "      border-color: transparent;\n",
              "      border-bottom-color: var(--fill-color);\n",
              "      border-left-color: var(--fill-color);\n",
              "    }\n",
              "    20% {\n",
              "      border-color: transparent;\n",
              "      border-left-color: var(--fill-color);\n",
              "      border-top-color: var(--fill-color);\n",
              "    }\n",
              "    30% {\n",
              "      border-color: transparent;\n",
              "      border-left-color: var(--fill-color);\n",
              "      border-top-color: var(--fill-color);\n",
              "      border-right-color: var(--fill-color);\n",
              "    }\n",
              "    40% {\n",
              "      border-color: transparent;\n",
              "      border-right-color: var(--fill-color);\n",
              "      border-top-color: var(--fill-color);\n",
              "    }\n",
              "    60% {\n",
              "      border-color: transparent;\n",
              "      border-right-color: var(--fill-color);\n",
              "    }\n",
              "    80% {\n",
              "      border-color: transparent;\n",
              "      border-right-color: var(--fill-color);\n",
              "      border-bottom-color: var(--fill-color);\n",
              "    }\n",
              "    90% {\n",
              "      border-color: transparent;\n",
              "      border-bottom-color: var(--fill-color);\n",
              "    }\n",
              "  }\n",
              "</style>\n",
              "\n",
              "  <script>\n",
              "    async function quickchart(key) {\n",
              "      const quickchartButtonEl =\n",
              "        document.querySelector('#' + key + ' button');\n",
              "      quickchartButtonEl.disabled = true;  // To prevent multiple clicks.\n",
              "      quickchartButtonEl.classList.add('colab-df-spinner');\n",
              "      try {\n",
              "        const charts = await google.colab.kernel.invokeFunction(\n",
              "            'suggestCharts', [key], {});\n",
              "      } catch (error) {\n",
              "        console.error('Error during call to suggestCharts:', error);\n",
              "      }\n",
              "      quickchartButtonEl.classList.remove('colab-df-spinner');\n",
              "      quickchartButtonEl.classList.add('colab-df-quickchart-complete');\n",
              "    }\n",
              "    (() => {\n",
              "      let quickchartButtonEl =\n",
              "        document.querySelector('#df-f80b02b8-c7f8-4b7d-b71e-edd1144ca7a1 button');\n",
              "      quickchartButtonEl.style.display =\n",
              "        google.colab.kernel.accessAllowed ? 'block' : 'none';\n",
              "    })();\n",
              "  </script>\n",
              "</div>\n",
              "    </div>\n",
              "  </div>\n"
            ]
          },
          "metadata": {},
          "execution_count": 1
        }
      ],
      "source": [
        "import pandas as pd\n",
        "import chardet # 자동으로 인코딩을 감지\n",
        "\n",
        "# 사용자가 선호운동을 평가한 점수에 대한 테이블\n",
        "# 현재는 각 사용자가 직접 선호도 값을 입력했다고 가정\n",
        "\n",
        "with open('/content/drive/MyDrive/Project_BeLife/data/sample_data_ver2.csv', 'rb') as f:\n",
        "    result_f = chardet.detect(f.read())\n",
        "\n",
        "encoding = result_f['encoding']\n",
        "\n",
        "rating_df = pd.read_csv('/content/drive/MyDrive/Project_BeLife/data/sample_data_ver2.csv', encoding=encoding)\n",
        "rating_df.head()"
      ]
    },
    {
      "cell_type": "code",
      "source": [
        "# 고유한 값들을 출력할 열들의 리스트\n",
        "print(\"<가중치 설정>\")\n",
        "columns_to_print = ['연령대', '장애유무', '중요항목', '선호운동', '건강상태', '운동목표', '선호빈도', '선호시간대', '선호인원수']\n",
        "\n",
        "# 반복문을 사용하여 각 열의 고유한 값들 출력\n",
        "for column in columns_to_print:\n",
        "    unique_values = rating_df[column].unique()\n",
        "    print(f\"{column}의 고유한 값들:\", unique_values)"
      ],
      "metadata": {
        "colab": {
          "base_uri": "https://localhost:8080/"
        },
        "id": "xHvnn5HBfRFW",
        "outputId": "22a1258f-8fe4-4dc1-88af-c5f599b4d2eb"
      },
      "execution_count": 2,
      "outputs": [
        {
          "output_type": "stream",
          "name": "stdout",
          "text": [
            "<가중치 설정>\n",
            "연령대의 고유한 값들: ['학생' '노인' '성인']\n",
            "장애유무의 고유한 값들: ['무' '유']\n",
            "중요항목의 고유한 값들: ['거주지' '선호운동' '연령대' '선호시간대' '건강상태' '장애유무' '운동목표' '선호인원수' '선호빈도']\n",
            "선호운동의 고유한 값들: ['구기및라켓' '민속' '체력단련및생활운' '레저' '재활' '무용' '무도']\n",
            "건강상태의 고유한 값들: ['대사증후군' '관절질환' '혈압질환' '해당없음' '디스크']\n",
            "운동목표의 고유한 값들: ['심폐지구력향상' '무관' '근력향상' '체형교정']\n",
            "선호빈도의 고유한 값들: ['주2회' '주4회이상' '주3회' '주1회']\n",
            "선호시간대의 고유한 값들: ['무관' '오전' '오후' '저녁' '새벽']\n",
            "선호인원수의 고유한 값들: ['무관' '5명이하' '5명이상']\n"
          ]
        }
      ]
    },
    {
      "cell_type": "markdown",
      "source": [
        "### 가중치 부여를 위한 데이터 프레임 수치화 (rating_df_weighted)"
      ],
      "metadata": {
        "id": "fcMKMwRM4n6L"
      }
    },
    {
      "cell_type": "code",
      "source": [
        "import pandas as pd\n",
        "import numpy as np\n",
        "\n",
        "# 주어진 데이터프레임의 모든 값을 1로 설정\n",
        "rating_df_weighted = rating_df.copy()\n",
        "rating_df_weighted.iloc[:, 2:] = 1\n",
        "\n",
        "# 데이터프레임 저장\n",
        "rating_df_weighted.to_csv('/content/drive/MyDrive/Project_BeLife/data/rating_df_weighted.csv', index=False)\n",
        "\n",
        "# 저장된 데이터프레임 확인\n",
        "print(rating_df_weighted.head())"
      ],
      "metadata": {
        "id": "fT8OXT8mzM-m",
        "colab": {
          "base_uri": "https://localhost:8080/"
        },
        "outputId": "e6849960-a75a-48d4-fd7e-c274acc99f11"
      },
      "execution_count": 3,
      "outputs": [
        {
          "output_type": "stream",
          "name": "stderr",
          "text": [
            "<ipython-input-3-423513f96fbb>:6: DeprecationWarning: In a future version, `df.iloc[:, i] = newvals` will attempt to set the values inplace instead of always setting a new array. To retain the old behavior, use either `df[df.columns[i]] = newvals` or, if columns are non-unique, `df.isetitem(i, newvals)`\n",
            "  rating_df_weighted.iloc[:, 2:] = 1\n"
          ]
        },
        {
          "output_type": "stream",
          "name": "stdout",
          "text": [
            "   사용자   건강상태  운동목표  연령대  거주지  선호빈도  선호시간대  선호인원수  선호운동  장애유무  중요항목\n",
            "0    1  대사증후군     1    1    1     1      1      1     1     1     1\n",
            "1    2  대사증후군     1    1    1     1      1      1     1     1     1\n",
            "2    3   관절질환     1    1    1     1      1      1     1     1     1\n",
            "3    4  대사증후군     1    1    1     1      1      1     1     1     1\n",
            "4    5   혈압질환     1    1    1     1      1      1     1     1     1\n"
          ]
        }
      ]
    },
    {
      "cell_type": "markdown",
      "source": [
        "### 컬럼별 가중치 부여 후 '평균평점' 새로운 컬럼 생성 후 데이터 프레임 저장 (rated_df_means)"
      ],
      "metadata": {
        "id": "gIW9yI1DxiD6"
      }
    },
    {
      "cell_type": "markdown",
      "source": [
        "- 중요항목 우선순위에 따른 가중치 k,l,m 으로 부여하는 코딩 작성 필요"
      ],
      "metadata": {
        "id": "JD0rfRrVnwor"
      }
    },
    {
      "cell_type": "code",
      "source": [
        "import pandas as pd\n",
        "import numpy as np\n",
        "\n",
        "# Step 1: rating_df 불러오기\n",
        "\n",
        "# Step 2: weighted_for_unique_values 적용 및 가중치 평균 계산\n",
        "weighted_columns = ['연령대', '장애유무', '중요항목', '선호운동', '건강상태', '운동목표', '선호빈도', '선호시간대', '선호인원수']\n",
        "weights = [1, 1, 2, 1, 2, 2, 1, 1, 1]\n",
        "\n",
        "# 고유값들의 가중치 설정\n",
        "weights_for_unique_values = {\n",
        "    '연령대': {'학생': 1, '노인': 2, '성인': 3},\n",
        "    '장애유무': {'무': 1, '유': 2},\n",
        "    '중요항목': {'거주지': 1, '선호운동': 2, '연령대': 3, '선호시간대': 1, '건강상태': 2, '장애유무': 2, '운동목표': 1, '선호인원수': 1, '선호빈도': 1},\n",
        "    '선호운동': {'구기및라켓': 1, '민속': 2, '체력단련및생활운': 3, '레저': 1, '재활': 2, '무용': 2, '무도': 1},\n",
        "    '건강상태': {'대사증후군': 1, '관절질환': 2, '혈압질환': 3, '해당없음': 1, '디스크': 2},\n",
        "    '운동목표': {'심폐지구력향상': 1, '무관': 2, '근력향상': 3, '체형교정': 1},\n",
        "    '선호빈도': {'주2회': 1, '주4회이상': 2, '주3회': 3, '주1회': 1},\n",
        "    '선호시간대': {'무관': 1, '오전': 2, '오후': 3, '저녁': 1, '새벽': 2},\n",
        "    '선호인원수': {'무관': 1, '5명이하': 2, '5명이상': 3}\n",
        "}\n",
        "\n",
        "# rating_df에 가중치 적용\n",
        "rating_df_weighted = rating_df.copy()\n",
        "for column in weighted_columns:\n",
        "    rating_df_weighted[column] = rating_df_weighted[column].map(weights_for_unique_values[column])\n",
        "\n",
        "# 가중 평균 계산\n",
        "rating_df_weighted['가중평균'] = (rating_df_weighted[weighted_columns] * weights).sum(axis=1) / sum(weights)\n",
        "\n",
        "# Step 3: 가중 평균을 가장 마지막 컬럼으로 이동하고 rating_df_means 파일로 저장\n",
        "weighted_columns.append('가중평균')\n",
        "rating_df_means = rating_df_weighted[weighted_columns]\n",
        "\n",
        "# 파일로 저장\n",
        "rating_df_means.to_csv('/content/drive/MyDrive/Project_BeLife/data/rating_df_means.csv', index=False)\n",
        "\n",
        "# Step 4: 최대, 최소 값 범위 출력\n",
        "print(\"rating_df_means 데이터 프레임\")\n",
        "print(rating_df_means)\n",
        "print(\"각 weighted_columns의 최대 값:\")\n",
        "print(rating_df_means[weighted_columns].max())\n",
        "print(\"\\n각 weighted_columns의 최소 값:\")\n",
        "print(rating_df_means[weighted_columns].min())\n"
      ],
      "metadata": {
        "colab": {
          "base_uri": "https://localhost:8080/"
        },
        "id": "0EocapOh_ys0",
        "outputId": "b80d73f7-9e82-48b0-b54d-7191dc17372b"
      },
      "execution_count": 4,
      "outputs": [
        {
          "output_type": "stream",
          "name": "stdout",
          "text": [
            "rating_df_means 데이터 프레임\n",
            "     연령대  장애유무  중요항목  선호운동  건강상태  운동목표  선호빈도  선호시간대  선호인원수      가중평균\n",
            "0      1     1     1     1     1     1     1      1      1  1.000000\n",
            "1      1     1     2     1     1     1     2      2      2  1.416667\n",
            "2      2     1     3     1     2     2     3      1      2  2.000000\n",
            "3      3     2     1     1     1     1     1      2      3  1.500000\n",
            "4      1     1     2     2     3     1     1      3      3  1.916667\n",
            "..   ...   ...   ...   ...   ...   ...   ...    ...    ...       ...\n",
            "995    2     1     1     3     2     3     1      2      3  2.000000\n",
            "996    2     1     2     3     3     2     2      2      2  2.166667\n",
            "997    3     2     1     2     2     1     3      1      2  1.750000\n",
            "998    1     1     1     3     2     1     1      3      1  1.500000\n",
            "999    2     2     3     1     1     3     2      2      1  2.000000\n",
            "\n",
            "[1000 rows x 10 columns]\n",
            "각 weighted_columns의 최대 값:\n",
            "연령대      3.000000\n",
            "장애유무     2.000000\n",
            "중요항목     3.000000\n",
            "선호운동     3.000000\n",
            "건강상태     3.000000\n",
            "운동목표     3.000000\n",
            "선호빈도     3.000000\n",
            "선호시간대    3.000000\n",
            "선호인원수    3.000000\n",
            "가중평균     2.583333\n",
            "dtype: float64\n",
            "\n",
            "각 weighted_columns의 최소 값:\n",
            "연령대      1.0\n",
            "장애유무     1.0\n",
            "중요항목     1.0\n",
            "선호운동     1.0\n",
            "건강상태     1.0\n",
            "운동목표     1.0\n",
            "선호빈도     1.0\n",
            "선호시간대    1.0\n",
            "선호인원수    1.0\n",
            "가중평균     1.0\n",
            "dtype: float64\n"
          ]
        }
      ]
    },
    {
      "cell_type": "markdown",
      "source": [
        "### 컬럼별 모든 경우의 수 계산 (필요시 실행)"
      ],
      "metadata": {
        "id": "HPwK0Oto87tm"
      }
    },
    {
      "cell_type": "code",
      "source": [
        "import itertools\n",
        "\n",
        "# weights_for_unique_values 딕셔너리\n",
        "weights_for_unique_values = {\n",
        "    '연령대': {'학생': 1, '노인': 2, '성인': 3},\n",
        "    '장애유무': {'무': 1, '유': 2},\n",
        "    '중요항목': {'거주지': 1, '선호운동': 2, '연령대': 3, '선호시간대': 1, '건강상태': 2, '장애유무': 2, '운동목표': 1, '선호인원수': 1, '선호빈도': 1},\n",
        "    '선호운동': {'구기및라켓': 1, '민속': 2, '체력단련및생활운': 3, '레저': 1, '재활': 2, '무용': 2, '무도': 1},\n",
        "    '건강상태': {'대사증후군': 1, '관절질환': 2, '혈압질환': 3, '해당없음': 1, '디스크': 2},\n",
        "    '운동목표': {'심폐지구력향상': 1, '무관': 2, '근력향상': 3, '체형교정': 1},\n",
        "    '선호빈도': {'주2회': 1, '주4회이상': 2, '주3회': 3, '주1회': 1},\n",
        "    '선호시간대': {'무관': 1, '오전': 2, '오후': 3, '저녁': 1, '새벽': 2},\n",
        "    '선호인원수': {'무관': 1, '5명이하': 2, '5명이상': 3}\n",
        "}\n",
        "\n",
        "# 가능한 조합 계산\n",
        "possible_combinations = list(itertools.product(*(v.keys() for k, v in weights_for_unique_values.items())))\n",
        "\n",
        "# 가능한 조합 출력\n",
        "print(\"가능한 조합:\")\n",
        "for combination in possible_combinations:\n",
        "    print(dict(zip(weights_for_unique_values.keys(), combination)))\n",
        "print(\"총 가능한 조합의 수:\", len(possible_combinations))\n"
      ],
      "metadata": {
        "id": "A6ZdgIVFHMaL"
      },
      "execution_count": null,
      "outputs": []
    },
    {
      "cell_type": "markdown",
      "source": [
        "## 정제한 프로그램 현황 데이터 (clean_data_df)\n",
        "\n",
        "\n",
        "\n"
      ],
      "metadata": {
        "id": "5fEi_6k7gtB6"
      }
    },
    {
      "cell_type": "code",
      "source": [
        "with open('/content/drive/MyDrive/Project_BeLife/data/clean_data_ver3.csv', 'rb') as p:\n",
        "    result_p = chardet.detect(p.read())\n",
        "\n",
        "encoding = result_p['encoding']\n",
        "\n",
        "clean_data_df = pd.read_csv('/content/drive/MyDrive/Project_BeLife/data/clean_data_ver3.csv', encoding=encoding)\n",
        "clean_data_df = clean_data_df.drop(['성별', '시설주소','Unnamed: 8'], axis=1)\n",
        "clean_data_df.head()"
      ],
      "metadata": {
        "colab": {
          "base_uri": "https://localhost:8080/",
          "height": 206
        },
        "id": "7YcQDkb0fuZ1",
        "outputId": "b11ead60-4418-49b7-8722-5232a3b77fef"
      },
      "execution_count": 5,
      "outputs": [
        {
          "output_type": "execute_result",
          "data": {
            "text/plain": [
              "         시설명          종목명 프로그램명  대상  연령  장애  요일           시간  \\\n",
              "0    G밸리보건지소  체력단련 및 생활운동  생활체조   3   4   1   월  10:00~11:20   \n",
              "1    G밸리보건지소  체력단련 및 생활운동    헬스   0   1   1  화목  10:00~11:30   \n",
              "2      가나안쉼터  체력단련 및 생활운동  세라밴드   3   4   1   월  10:30~11:20   \n",
              "3  가재울게이트볼구장      구기 및 라켓  게이트볼   4   1   2   수  10:40~11:20   \n",
              "4  가재울게이트볼구장      구기 및 라켓  게이트볼   4   1   2   월  10:10~11:50   \n",
              "\n",
              "                  지번주소  \n",
              "0       서울 구로구 구로동 237  \n",
              "1       서울 구로구 구로동 237  \n",
              "2   서울 동대문구 전농동 602-29  \n",
              "3  서울특별시 노원구 중계동 515-4  \n",
              "4  서울특별시 노원구 중계동 515-4  "
            ],
            "text/html": [
              "\n",
              "  <div id=\"df-729d7958-76fd-4559-925e-0bbd0975d4f8\" class=\"colab-df-container\">\n",
              "    <div>\n",
              "<style scoped>\n",
              "    .dataframe tbody tr th:only-of-type {\n",
              "        vertical-align: middle;\n",
              "    }\n",
              "\n",
              "    .dataframe tbody tr th {\n",
              "        vertical-align: top;\n",
              "    }\n",
              "\n",
              "    .dataframe thead th {\n",
              "        text-align: right;\n",
              "    }\n",
              "</style>\n",
              "<table border=\"1\" class=\"dataframe\">\n",
              "  <thead>\n",
              "    <tr style=\"text-align: right;\">\n",
              "      <th></th>\n",
              "      <th>시설명</th>\n",
              "      <th>종목명</th>\n",
              "      <th>프로그램명</th>\n",
              "      <th>대상</th>\n",
              "      <th>연령</th>\n",
              "      <th>장애</th>\n",
              "      <th>요일</th>\n",
              "      <th>시간</th>\n",
              "      <th>지번주소</th>\n",
              "    </tr>\n",
              "  </thead>\n",
              "  <tbody>\n",
              "    <tr>\n",
              "      <th>0</th>\n",
              "      <td>G밸리보건지소</td>\n",
              "      <td>체력단련 및 생활운동</td>\n",
              "      <td>생활체조</td>\n",
              "      <td>3</td>\n",
              "      <td>4</td>\n",
              "      <td>1</td>\n",
              "      <td>월</td>\n",
              "      <td>10:00~11:20</td>\n",
              "      <td>서울 구로구 구로동 237</td>\n",
              "    </tr>\n",
              "    <tr>\n",
              "      <th>1</th>\n",
              "      <td>G밸리보건지소</td>\n",
              "      <td>체력단련 및 생활운동</td>\n",
              "      <td>헬스</td>\n",
              "      <td>0</td>\n",
              "      <td>1</td>\n",
              "      <td>1</td>\n",
              "      <td>화목</td>\n",
              "      <td>10:00~11:30</td>\n",
              "      <td>서울 구로구 구로동 237</td>\n",
              "    </tr>\n",
              "    <tr>\n",
              "      <th>2</th>\n",
              "      <td>가나안쉼터</td>\n",
              "      <td>체력단련 및 생활운동</td>\n",
              "      <td>세라밴드</td>\n",
              "      <td>3</td>\n",
              "      <td>4</td>\n",
              "      <td>1</td>\n",
              "      <td>월</td>\n",
              "      <td>10:30~11:20</td>\n",
              "      <td>서울 동대문구 전농동 602-29</td>\n",
              "    </tr>\n",
              "    <tr>\n",
              "      <th>3</th>\n",
              "      <td>가재울게이트볼구장</td>\n",
              "      <td>구기 및 라켓</td>\n",
              "      <td>게이트볼</td>\n",
              "      <td>4</td>\n",
              "      <td>1</td>\n",
              "      <td>2</td>\n",
              "      <td>수</td>\n",
              "      <td>10:40~11:20</td>\n",
              "      <td>서울특별시 노원구 중계동 515-4</td>\n",
              "    </tr>\n",
              "    <tr>\n",
              "      <th>4</th>\n",
              "      <td>가재울게이트볼구장</td>\n",
              "      <td>구기 및 라켓</td>\n",
              "      <td>게이트볼</td>\n",
              "      <td>4</td>\n",
              "      <td>1</td>\n",
              "      <td>2</td>\n",
              "      <td>월</td>\n",
              "      <td>10:10~11:50</td>\n",
              "      <td>서울특별시 노원구 중계동 515-4</td>\n",
              "    </tr>\n",
              "  </tbody>\n",
              "</table>\n",
              "</div>\n",
              "    <div class=\"colab-df-buttons\">\n",
              "\n",
              "  <div class=\"colab-df-container\">\n",
              "    <button class=\"colab-df-convert\" onclick=\"convertToInteractive('df-729d7958-76fd-4559-925e-0bbd0975d4f8')\"\n",
              "            title=\"Convert this dataframe to an interactive table.\"\n",
              "            style=\"display:none;\">\n",
              "\n",
              "  <svg xmlns=\"http://www.w3.org/2000/svg\" height=\"24px\" viewBox=\"0 -960 960 960\">\n",
              "    <path d=\"M120-120v-720h720v720H120Zm60-500h600v-160H180v160Zm220 220h160v-160H400v160Zm0 220h160v-160H400v160ZM180-400h160v-160H180v160Zm440 0h160v-160H620v160ZM180-180h160v-160H180v160Zm440 0h160v-160H620v160Z\"/>\n",
              "  </svg>\n",
              "    </button>\n",
              "\n",
              "  <style>\n",
              "    .colab-df-container {\n",
              "      display:flex;\n",
              "      gap: 12px;\n",
              "    }\n",
              "\n",
              "    .colab-df-convert {\n",
              "      background-color: #E8F0FE;\n",
              "      border: none;\n",
              "      border-radius: 50%;\n",
              "      cursor: pointer;\n",
              "      display: none;\n",
              "      fill: #1967D2;\n",
              "      height: 32px;\n",
              "      padding: 0 0 0 0;\n",
              "      width: 32px;\n",
              "    }\n",
              "\n",
              "    .colab-df-convert:hover {\n",
              "      background-color: #E2EBFA;\n",
              "      box-shadow: 0px 1px 2px rgba(60, 64, 67, 0.3), 0px 1px 3px 1px rgba(60, 64, 67, 0.15);\n",
              "      fill: #174EA6;\n",
              "    }\n",
              "\n",
              "    .colab-df-buttons div {\n",
              "      margin-bottom: 4px;\n",
              "    }\n",
              "\n",
              "    [theme=dark] .colab-df-convert {\n",
              "      background-color: #3B4455;\n",
              "      fill: #D2E3FC;\n",
              "    }\n",
              "\n",
              "    [theme=dark] .colab-df-convert:hover {\n",
              "      background-color: #434B5C;\n",
              "      box-shadow: 0px 1px 3px 1px rgba(0, 0, 0, 0.15);\n",
              "      filter: drop-shadow(0px 1px 2px rgba(0, 0, 0, 0.3));\n",
              "      fill: #FFFFFF;\n",
              "    }\n",
              "  </style>\n",
              "\n",
              "    <script>\n",
              "      const buttonEl =\n",
              "        document.querySelector('#df-729d7958-76fd-4559-925e-0bbd0975d4f8 button.colab-df-convert');\n",
              "      buttonEl.style.display =\n",
              "        google.colab.kernel.accessAllowed ? 'block' : 'none';\n",
              "\n",
              "      async function convertToInteractive(key) {\n",
              "        const element = document.querySelector('#df-729d7958-76fd-4559-925e-0bbd0975d4f8');\n",
              "        const dataTable =\n",
              "          await google.colab.kernel.invokeFunction('convertToInteractive',\n",
              "                                                    [key], {});\n",
              "        if (!dataTable) return;\n",
              "\n",
              "        const docLinkHtml = 'Like what you see? Visit the ' +\n",
              "          '<a target=\"_blank\" href=https://colab.research.google.com/notebooks/data_table.ipynb>data table notebook</a>'\n",
              "          + ' to learn more about interactive tables.';\n",
              "        element.innerHTML = '';\n",
              "        dataTable['output_type'] = 'display_data';\n",
              "        await google.colab.output.renderOutput(dataTable, element);\n",
              "        const docLink = document.createElement('div');\n",
              "        docLink.innerHTML = docLinkHtml;\n",
              "        element.appendChild(docLink);\n",
              "      }\n",
              "    </script>\n",
              "  </div>\n",
              "\n",
              "\n",
              "<div id=\"df-13f839b5-ad5d-4c01-a3d9-78b63d73eeb3\">\n",
              "  <button class=\"colab-df-quickchart\" onclick=\"quickchart('df-13f839b5-ad5d-4c01-a3d9-78b63d73eeb3')\"\n",
              "            title=\"Suggest charts\"\n",
              "            style=\"display:none;\">\n",
              "\n",
              "<svg xmlns=\"http://www.w3.org/2000/svg\" height=\"24px\"viewBox=\"0 0 24 24\"\n",
              "     width=\"24px\">\n",
              "    <g>\n",
              "        <path d=\"M19 3H5c-1.1 0-2 .9-2 2v14c0 1.1.9 2 2 2h14c1.1 0 2-.9 2-2V5c0-1.1-.9-2-2-2zM9 17H7v-7h2v7zm4 0h-2V7h2v10zm4 0h-2v-4h2v4z\"/>\n",
              "    </g>\n",
              "</svg>\n",
              "  </button>\n",
              "\n",
              "<style>\n",
              "  .colab-df-quickchart {\n",
              "      --bg-color: #E8F0FE;\n",
              "      --fill-color: #1967D2;\n",
              "      --hover-bg-color: #E2EBFA;\n",
              "      --hover-fill-color: #174EA6;\n",
              "      --disabled-fill-color: #AAA;\n",
              "      --disabled-bg-color: #DDD;\n",
              "  }\n",
              "\n",
              "  [theme=dark] .colab-df-quickchart {\n",
              "      --bg-color: #3B4455;\n",
              "      --fill-color: #D2E3FC;\n",
              "      --hover-bg-color: #434B5C;\n",
              "      --hover-fill-color: #FFFFFF;\n",
              "      --disabled-bg-color: #3B4455;\n",
              "      --disabled-fill-color: #666;\n",
              "  }\n",
              "\n",
              "  .colab-df-quickchart {\n",
              "    background-color: var(--bg-color);\n",
              "    border: none;\n",
              "    border-radius: 50%;\n",
              "    cursor: pointer;\n",
              "    display: none;\n",
              "    fill: var(--fill-color);\n",
              "    height: 32px;\n",
              "    padding: 0;\n",
              "    width: 32px;\n",
              "  }\n",
              "\n",
              "  .colab-df-quickchart:hover {\n",
              "    background-color: var(--hover-bg-color);\n",
              "    box-shadow: 0 1px 2px rgba(60, 64, 67, 0.3), 0 1px 3px 1px rgba(60, 64, 67, 0.15);\n",
              "    fill: var(--button-hover-fill-color);\n",
              "  }\n",
              "\n",
              "  .colab-df-quickchart-complete:disabled,\n",
              "  .colab-df-quickchart-complete:disabled:hover {\n",
              "    background-color: var(--disabled-bg-color);\n",
              "    fill: var(--disabled-fill-color);\n",
              "    box-shadow: none;\n",
              "  }\n",
              "\n",
              "  .colab-df-spinner {\n",
              "    border: 2px solid var(--fill-color);\n",
              "    border-color: transparent;\n",
              "    border-bottom-color: var(--fill-color);\n",
              "    animation:\n",
              "      spin 1s steps(1) infinite;\n",
              "  }\n",
              "\n",
              "  @keyframes spin {\n",
              "    0% {\n",
              "      border-color: transparent;\n",
              "      border-bottom-color: var(--fill-color);\n",
              "      border-left-color: var(--fill-color);\n",
              "    }\n",
              "    20% {\n",
              "      border-color: transparent;\n",
              "      border-left-color: var(--fill-color);\n",
              "      border-top-color: var(--fill-color);\n",
              "    }\n",
              "    30% {\n",
              "      border-color: transparent;\n",
              "      border-left-color: var(--fill-color);\n",
              "      border-top-color: var(--fill-color);\n",
              "      border-right-color: var(--fill-color);\n",
              "    }\n",
              "    40% {\n",
              "      border-color: transparent;\n",
              "      border-right-color: var(--fill-color);\n",
              "      border-top-color: var(--fill-color);\n",
              "    }\n",
              "    60% {\n",
              "      border-color: transparent;\n",
              "      border-right-color: var(--fill-color);\n",
              "    }\n",
              "    80% {\n",
              "      border-color: transparent;\n",
              "      border-right-color: var(--fill-color);\n",
              "      border-bottom-color: var(--fill-color);\n",
              "    }\n",
              "    90% {\n",
              "      border-color: transparent;\n",
              "      border-bottom-color: var(--fill-color);\n",
              "    }\n",
              "  }\n",
              "</style>\n",
              "\n",
              "  <script>\n",
              "    async function quickchart(key) {\n",
              "      const quickchartButtonEl =\n",
              "        document.querySelector('#' + key + ' button');\n",
              "      quickchartButtonEl.disabled = true;  // To prevent multiple clicks.\n",
              "      quickchartButtonEl.classList.add('colab-df-spinner');\n",
              "      try {\n",
              "        const charts = await google.colab.kernel.invokeFunction(\n",
              "            'suggestCharts', [key], {});\n",
              "      } catch (error) {\n",
              "        console.error('Error during call to suggestCharts:', error);\n",
              "      }\n",
              "      quickchartButtonEl.classList.remove('colab-df-spinner');\n",
              "      quickchartButtonEl.classList.add('colab-df-quickchart-complete');\n",
              "    }\n",
              "    (() => {\n",
              "      let quickchartButtonEl =\n",
              "        document.querySelector('#df-13f839b5-ad5d-4c01-a3d9-78b63d73eeb3 button');\n",
              "      quickchartButtonEl.style.display =\n",
              "        google.colab.kernel.accessAllowed ? 'block' : 'none';\n",
              "    })();\n",
              "  </script>\n",
              "</div>\n",
              "    </div>\n",
              "  </div>\n"
            ]
          },
          "metadata": {},
          "execution_count": 5
        }
      ]
    },
    {
      "cell_type": "markdown",
      "metadata": {
        "id": "nU_4uNDQWPsa"
      },
      "source": [
        "# EDA"
      ]
    },
    {
      "cell_type": "markdown",
      "source": [
        "### 각 테이블 열 이름 확인"
      ],
      "metadata": {
        "id": "FK1603MskuZg"
      }
    },
    {
      "cell_type": "code",
      "source": [
        "print(\"선호도 테이블 열 이름 확인:\", rating_df.columns)\n",
        "print(\"프로그램 정제 테이블 열 이름 확인:\", clean_data_df.columns)"
      ],
      "metadata": {
        "colab": {
          "base_uri": "https://localhost:8080/"
        },
        "id": "d6YKyhZIhdqn",
        "outputId": "d252b0bc-90ad-4c93-c13f-f0c6f7be53dc"
      },
      "execution_count": 6,
      "outputs": [
        {
          "output_type": "stream",
          "name": "stdout",
          "text": [
            "선호도 테이블 열 이름 확인: Index(['사용자', '건강상태', '운동목표', '연령대', '거주지', '선호빈도', '선호시간대', '선호인원수', '선호운동',\n",
            "       '장애유무', '중요항목'],\n",
            "      dtype='object')\n",
            "프로그램 정제 테이블 열 이름 확인: Index(['시설명', '종목명', '프로그램명', '대상', '연령', '장애', '요일', '시간', '지번주소'], dtype='object')\n"
          ]
        }
      ]
    },
    {
      "cell_type": "markdown",
      "source": [
        "### 각 테이블 고유 속성 정보"
      ],
      "metadata": {
        "id": "6fdr0bOTk1pr"
      }
    },
    {
      "cell_type": "code",
      "execution_count": 7,
      "metadata": {
        "colab": {
          "base_uri": "https://localhost:8080/"
        },
        "id": "o2_yFRKEuyIX",
        "outputId": "bb76d9df-151c-46cf-abb0-0c29d88bd03c"
      },
      "outputs": [
        {
          "output_type": "stream",
          "name": "stdout",
          "text": [
            "<rating_df>\n",
            "고유 사용자 수: 1000\n",
            "선호하는 종목명 개수: 7\n",
            "리스트: ['구기및라켓' '민속' '체력단련및생활운' '레저' '재활' '무용' '무도'] \n",
            "\n",
            "<clean_data_df>\n",
            "실제 종목명 개수: 7\n",
            "리스트: ['체력단련 및 생활운동' '구기 및 라켓' '무용' '무도' '레저' '재활' '민속'] \n",
            "\n",
            "실제 프로그램명 개수: 209\n",
            "리스트: ['생활체조' '헬스' '세라밴드' '게이트볼' '농구' '댄스스포츠' '라틴댄스' '배드민턴' '벨리댄스' '에어로빅' '요가'\n",
            " '체조' '탁구' '테니스' '필라테스' '골프' '나이트댄스' '단전호흡' '댄스' '발레' '방송댄스' '수영' '아쿠아로빅'\n",
            " '웨이트로빅' '재즈댄스' '축구' '태극권' '태보' '한국무용' '라인댄스' '인라인' '재즈힙합' '태권도' '음악줄넘기'\n",
            " '공요가' '기구스트레칭' '라인살사댄스' '라인포크댄스' '라틴챠밍댄스' '모던댄스' '방송재즈댄스' '살사댄스' '선교무용'\n",
            " '스트레칭' '요가(임산부)' '우리춤체조' '웃음체조' '요가_하타' '검도' '배구' '스쿼시' '줄넘기' '풋살' '힙합댄스'\n",
            " '걷기' '선무도' '속성수영' '스포츠클라이밍' '실내야구' '다이어트댄스' '복싱' '아쿠아로빅(임산부)' '클럽댄스' '핼수'\n",
            " '특수체육' '리듬체조' '전통무용' '발레스트레칭' '사교댄스' '수영(임산부)' '줌바' '짐볼헬스' '피규어댄스' '헬스짐볼'\n",
            " '스피닝' '요가(산후)' '유도' '체육' '토구' '디스코' '라틴살사' '라켓볼' '스크린골프' '수영(60세 미만)'\n",
            " '수영(60세 이상)' '수영(65세 이상)' '택견' '헬스 ' '볼링' '수중재활' '스포츠팀' '운동발달' '치매예방운동'\n",
            " '댄스스포츠 ' '댄스스포츠(12개월)' '댄스스포츠(3개월)' '댄스스포츠(6개월)' '방송댄스(12개월)' '방송댄스(3개월)'\n",
            " '방송댄스(6개월)' '에어로빅(12개월)' '에어로빅(3개월)' '에어로빅(6개월)' '요가(3개월)' '요가(6개월)'\n",
            " '헬스(12개월)' '헬스(3개월)' '헬스(6개월)' '댄스스포츠_살사' '수상스키' '아쿠아로빅(관절염)' '에어댄스'\n",
            " '인라인하키' '티볼' '학교체육' '듀애슬론_자전거' '재즈발레' '철인수영' '댄스스포츠_부부' '레크댄스' '이지댄스'\n",
            " '한국무용_작품' '한국무용_타악' '소그룹수영' '소그룹수영(3개월)' '수영(3개월)' '아쿠아로빅(3개월)' '댄스로빅'\n",
            " '조깅' '특공무술' '당구' '야구' '스케이트' '스피트스케이트' '피겨스케이팅' '재활훈련' '실버스트레칭' '당구_포켓볼'\n",
            " '스키' '치어리더' '생활체육' '핀수영' '밸리댄스' '덤벨체조' '슛돌이축구' '매일요가' '스킨스쿠버' '수영헬스'\n",
            " '수중운동' '특수체육(저소득층)' '스노쿨링' '핼스' '스포츠댄스' '에어로빅(산후)' '에어로빅(임산부)' '검도 '\n",
            " '코어운동' '공수도' '요가_반야사' '호신술' '아쿠아로빅_소그룹' '헬스GX' '게이트볼 ' '양궁' '우드볼' '덩더쿵체조'\n",
            " '맷돌체조' '챠밍댄스' '실내테니스' '볼륨댄스' '족구' '에스보드' '파워다이어트댄스' '보디빌딩' '국선도' '리권'\n",
            " '노르딕워킹' '아쿠아로빅_태보' '패키지' '자전거' '체육교실' '수구' '힙합방송댄스' '헬스(10회)' '헬스(2개월)'\n",
            " '헬스(4개월)' '유도_호신술' '스모비링' '수중관절' '재활' '재활_개인' '골프(3개월)' '나이트댄스(3개월)'\n",
            " '라인댄스(3개월)' '벨리댄스(3개월)' '스쿼시(3개월)' '스쿼시헬스' '스쿼시헬스(3개월)' '재즈댄스(3개월)'\n",
            " '필라테스(1개월)' '필라테스(3개월)' '한국무용(3개월)' '헬스(5개월)' '댄스테피아' '수영(관절염)' '요가_소그룹'\n",
            " '합기도' '아쿠아워킹' '국궁'] \n",
            "\n"
          ]
        }
      ],
      "source": [
        "print(\"<rating_df>\")\n",
        "print(\"고유 사용자 수:\", len(rating_df[\"사용자\"].unique()))\n",
        "print(\"선호하는 종목명 개수:\", len(rating_df[\"선호운동\"].unique()))\n",
        "print(\"리스트:\", rating_df[\"선호운동\"].unique(), '\\n')\n",
        "\n",
        "print(\"<clean_data_df>\")\n",
        "print(\"실제 종목명 개수:\", len(clean_data_df[\"종목명\"].unique()))\n",
        "print(\"리스트:\", clean_data_df[\"종목명\"].unique(), '\\n')\n",
        "print(\"실제 프로그램명 개수:\", len(clean_data_df[\"프로그램명\"].unique()))\n",
        "print(\"리스트:\", clean_data_df[\"프로그램명\"].unique(), '\\n')"
      ]
    },
    {
      "cell_type": "markdown",
      "source": [
        "## 학습용 데이터 프레임 만들기 (merged_df)\n",
        "- 사용자(rating_df) + 프로그램명(clean_data_df) + 가중평균(rating_df_means)"
      ],
      "metadata": {
        "id": "V69R0sI1stAs"
      }
    },
    {
      "cell_type": "code",
      "source": [
        "import pandas as pd\n",
        "import numpy as np\n",
        "\n",
        "# 예시 데이터 생성 (사용자, 프로그램, 가중평균)\n",
        "rating_df = pd.DataFrame({'사용자': range(1, 1001)})\n",
        "clean_data_df = pd.DataFrame({'프로그램명': ['생활체조', '헬스', '세라밴드', '게이트볼', '농구', '댄스스포츠', '라틴댄스', '배드민턴', '벨리댄스', '에어로빅', '요가',\n",
        "                                          '체조', '탁구', '테니스', '필라테스', '골프', '나이트댄스', '단전호흡', '댄스', '발레', '방송댄스', '수영', '아쿠아로빅',\n",
        "                                          '웨이트로빅', '재즈댄스', '축구', '태극권', '태보', '한국무용', '라인댄스', '인라인', '재즈힙합', '태권도', '음악줄넘기',\n",
        "                                          '공요가', '기구스트레칭', '라인살사댄스', '라인포크댄스', '라틴챠밍댄스', '모던댄스', '방송재즈댄스', '살사댄스', '선교무용',\n",
        "                                          '스트레칭', '요가(임산부)', '우리춤체조', '웃음체조', '요가_하타', '검도', '배구', '스쿼시', '줄넘기', '풋살', '힙합댄스',\n",
        "                                          '걷기', '선무도', '속성수영', '스포츠클라이밍', '실내야구', '다이어트댄스', '복싱', '아쿠아로빅(임산부)', '클럽댄스', '핼수',\n",
        "                                          '특수체육', '리듬체조', '전통무용', '발레스트레칭', '사교댄스', '수영(임산부)', '줌바', '짐볼헬스', '피규어댄스', '헬스짐볼',\n",
        "                                          '스피닝', '요가(산후)', '유도', '체육', '토구', '디스코', '라틴살사', '라켓볼', '스크린골프', '수영(60세 미만)',\n",
        "                                          '수영(60세 이상)', '수영(65세 이상)', '택견', '헬스 ', '볼링', '수중재활', '스포츠팀', '운동발달', '치매예방운동',\n",
        "                                          '댄스스포츠 ', '댄스스포츠(12개월)', '댄스스포츠(3개월)', '댄스스포츠(6개월)', '방송댄스(12개월)', '방송댄스(3개월)',\n",
        "                                          '방송댄스(6개월)', '에어로빅(12개월)', '에어로빅(3개월)', '에어로빅(6개월)', '요가(3개월)', '요가(6개월)',\n",
        "                                          '헬스(12개월)', '헬스(3개월)', '헬스(6개월)', '댄스스포츠_살사', '수상스키', '아쿠아로빅(관절염)', '에어댄스',\n",
        "                                          '인라인하키', '티볼', '학교체육', '듀애슬론_자전거', '재즈발레', '철인수영', '댄스스포츠_부부', '레크댄스', '이지댄스',\n",
        "                                          '한국무용_작품', '한국무용_타악', '소그룹수영', '소그룹수영(3개월)', '수영(3개월)', '아쿠아로빅(3개월)', '댄스로빅',\n",
        "                                          '조깅', '특공무술', '당구', '야구', '스케이트', '스피트스케이트', '피겨스케이팅', '재활훈련', '실버스트레칭', '당구_포켓볼',\n",
        "                                          '스키', '치어리더', '생활체육', '핀수영', '밸리댄스', '덤벨체조', '슛돌이축구', '매일요가', '스킨스쿠버', '수영헬스',\n",
        "                                          '수중운동', '특수체육(저소득층)', '스노쿨링', '핼스', '스포츠댄스', '에어로빅(산후)', '에어로빅(임산부)', '검도 ',\n",
        "                                          '코어운동', '공수도', '요가_반야사', '호신술', '아쿠아로빅_소그룹', '헬스GX', '게이트볼 ', '양궁', '우드볼', '덩더쿵체조',\n",
        "                                          '맷돌체조', '챠밍댄스', '실내테니스', '볼륨댄스', '족구', '에스보드', '파워다이어트댄스', '보디빌딩', '국선도', '리권',\n",
        "                                          '노르딕워킹', '아쿠아로빅_태보', '패키지', '자전거', '체육교실', '수구', '힙합방송댄스', '헬스(10회)', '헬스(2개월)',\n",
        "                                          '헬스(4개월)', '유도_호신술', '스모비링', '수중관절', '재활', '재활_개인', '골프(3개월)', '나이트댄스(3개월)',\n",
        "                                          '라인댄스(3개월)', '벨리댄스(3개월)', '스쿼시(3개월)', '스쿼시헬스', '스쿼시헬스(3개월)', '재즈댄스(3개월)',\n",
        "                                          '필라테스(1개월)', '필라테스(3개월)', '한국무용(3개월)', '헬스(5개월)', '댄스테피아', '수영(관절염)', '요가_소그룹',\n",
        "                                          '합기도', '아쿠아워킹', '국궁']})\n",
        "\n",
        "# 랜덤한 가중평균 값 생성\n",
        "rating_df_means = pd.DataFrame({'가중평균': np.round(np.random.uniform(1.0, 3.1, size=len(rating_df)), 1)})\n",
        "\n",
        "# 테이블 생성\n",
        "merge_df = pd.DataFrame({\n",
        "    '사용자': np.repeat(rating_df['사용자'], len(clean_data_df)),\n",
        "    '프로그램명': np.tile(clean_data_df['프로그램명'].tolist(), len(rating_df)),\n",
        "    '가중평균': np.tile(rating_df_means['가중평균'].tolist(), len(clean_data_df))\n",
        "})\n",
        "\n",
        "# 파일로 저장\n",
        "merge_df.to_csv('/content/drive/MyDrive/Project_BeLife/data/merge_df.csv', index=False)\n",
        "merge_df\n"
      ],
      "metadata": {
        "colab": {
          "base_uri": "https://localhost:8080/",
          "height": 423
        },
        "id": "5pImIohzsMx6",
        "outputId": "35d6a252-07c9-4bf7-fdfa-c685d813809c"
      },
      "execution_count": 12,
      "outputs": [
        {
          "output_type": "execute_result",
          "data": {
            "text/plain": [
              "      사용자    프로그램명  가중평균\n",
              "0       1     생활체조   2.3\n",
              "0       1       헬스   1.2\n",
              "0       1     세라밴드   1.2\n",
              "0       1     게이트볼   1.9\n",
              "0       1       농구   1.1\n",
              "..    ...      ...   ...\n",
              "999  1000  수영(관절염)   2.7\n",
              "999  1000   요가_소그룹   2.2\n",
              "999  1000      합기도   2.4\n",
              "999  1000    아쿠아워킹   1.4\n",
              "999  1000       국궁   2.3\n",
              "\n",
              "[209000 rows x 3 columns]"
            ],
            "text/html": [
              "\n",
              "  <div id=\"df-7cf9f838-6d13-431d-b538-3840c59190b4\" class=\"colab-df-container\">\n",
              "    <div>\n",
              "<style scoped>\n",
              "    .dataframe tbody tr th:only-of-type {\n",
              "        vertical-align: middle;\n",
              "    }\n",
              "\n",
              "    .dataframe tbody tr th {\n",
              "        vertical-align: top;\n",
              "    }\n",
              "\n",
              "    .dataframe thead th {\n",
              "        text-align: right;\n",
              "    }\n",
              "</style>\n",
              "<table border=\"1\" class=\"dataframe\">\n",
              "  <thead>\n",
              "    <tr style=\"text-align: right;\">\n",
              "      <th></th>\n",
              "      <th>사용자</th>\n",
              "      <th>프로그램명</th>\n",
              "      <th>가중평균</th>\n",
              "    </tr>\n",
              "  </thead>\n",
              "  <tbody>\n",
              "    <tr>\n",
              "      <th>0</th>\n",
              "      <td>1</td>\n",
              "      <td>생활체조</td>\n",
              "      <td>2.3</td>\n",
              "    </tr>\n",
              "    <tr>\n",
              "      <th>0</th>\n",
              "      <td>1</td>\n",
              "      <td>헬스</td>\n",
              "      <td>1.2</td>\n",
              "    </tr>\n",
              "    <tr>\n",
              "      <th>0</th>\n",
              "      <td>1</td>\n",
              "      <td>세라밴드</td>\n",
              "      <td>1.2</td>\n",
              "    </tr>\n",
              "    <tr>\n",
              "      <th>0</th>\n",
              "      <td>1</td>\n",
              "      <td>게이트볼</td>\n",
              "      <td>1.9</td>\n",
              "    </tr>\n",
              "    <tr>\n",
              "      <th>0</th>\n",
              "      <td>1</td>\n",
              "      <td>농구</td>\n",
              "      <td>1.1</td>\n",
              "    </tr>\n",
              "    <tr>\n",
              "      <th>...</th>\n",
              "      <td>...</td>\n",
              "      <td>...</td>\n",
              "      <td>...</td>\n",
              "    </tr>\n",
              "    <tr>\n",
              "      <th>999</th>\n",
              "      <td>1000</td>\n",
              "      <td>수영(관절염)</td>\n",
              "      <td>2.7</td>\n",
              "    </tr>\n",
              "    <tr>\n",
              "      <th>999</th>\n",
              "      <td>1000</td>\n",
              "      <td>요가_소그룹</td>\n",
              "      <td>2.2</td>\n",
              "    </tr>\n",
              "    <tr>\n",
              "      <th>999</th>\n",
              "      <td>1000</td>\n",
              "      <td>합기도</td>\n",
              "      <td>2.4</td>\n",
              "    </tr>\n",
              "    <tr>\n",
              "      <th>999</th>\n",
              "      <td>1000</td>\n",
              "      <td>아쿠아워킹</td>\n",
              "      <td>1.4</td>\n",
              "    </tr>\n",
              "    <tr>\n",
              "      <th>999</th>\n",
              "      <td>1000</td>\n",
              "      <td>국궁</td>\n",
              "      <td>2.3</td>\n",
              "    </tr>\n",
              "  </tbody>\n",
              "</table>\n",
              "<p>209000 rows × 3 columns</p>\n",
              "</div>\n",
              "    <div class=\"colab-df-buttons\">\n",
              "\n",
              "  <div class=\"colab-df-container\">\n",
              "    <button class=\"colab-df-convert\" onclick=\"convertToInteractive('df-7cf9f838-6d13-431d-b538-3840c59190b4')\"\n",
              "            title=\"Convert this dataframe to an interactive table.\"\n",
              "            style=\"display:none;\">\n",
              "\n",
              "  <svg xmlns=\"http://www.w3.org/2000/svg\" height=\"24px\" viewBox=\"0 -960 960 960\">\n",
              "    <path d=\"M120-120v-720h720v720H120Zm60-500h600v-160H180v160Zm220 220h160v-160H400v160Zm0 220h160v-160H400v160ZM180-400h160v-160H180v160Zm440 0h160v-160H620v160ZM180-180h160v-160H180v160Zm440 0h160v-160H620v160Z\"/>\n",
              "  </svg>\n",
              "    </button>\n",
              "\n",
              "  <style>\n",
              "    .colab-df-container {\n",
              "      display:flex;\n",
              "      gap: 12px;\n",
              "    }\n",
              "\n",
              "    .colab-df-convert {\n",
              "      background-color: #E8F0FE;\n",
              "      border: none;\n",
              "      border-radius: 50%;\n",
              "      cursor: pointer;\n",
              "      display: none;\n",
              "      fill: #1967D2;\n",
              "      height: 32px;\n",
              "      padding: 0 0 0 0;\n",
              "      width: 32px;\n",
              "    }\n",
              "\n",
              "    .colab-df-convert:hover {\n",
              "      background-color: #E2EBFA;\n",
              "      box-shadow: 0px 1px 2px rgba(60, 64, 67, 0.3), 0px 1px 3px 1px rgba(60, 64, 67, 0.15);\n",
              "      fill: #174EA6;\n",
              "    }\n",
              "\n",
              "    .colab-df-buttons div {\n",
              "      margin-bottom: 4px;\n",
              "    }\n",
              "\n",
              "    [theme=dark] .colab-df-convert {\n",
              "      background-color: #3B4455;\n",
              "      fill: #D2E3FC;\n",
              "    }\n",
              "\n",
              "    [theme=dark] .colab-df-convert:hover {\n",
              "      background-color: #434B5C;\n",
              "      box-shadow: 0px 1px 3px 1px rgba(0, 0, 0, 0.15);\n",
              "      filter: drop-shadow(0px 1px 2px rgba(0, 0, 0, 0.3));\n",
              "      fill: #FFFFFF;\n",
              "    }\n",
              "  </style>\n",
              "\n",
              "    <script>\n",
              "      const buttonEl =\n",
              "        document.querySelector('#df-7cf9f838-6d13-431d-b538-3840c59190b4 button.colab-df-convert');\n",
              "      buttonEl.style.display =\n",
              "        google.colab.kernel.accessAllowed ? 'block' : 'none';\n",
              "\n",
              "      async function convertToInteractive(key) {\n",
              "        const element = document.querySelector('#df-7cf9f838-6d13-431d-b538-3840c59190b4');\n",
              "        const dataTable =\n",
              "          await google.colab.kernel.invokeFunction('convertToInteractive',\n",
              "                                                    [key], {});\n",
              "        if (!dataTable) return;\n",
              "\n",
              "        const docLinkHtml = 'Like what you see? Visit the ' +\n",
              "          '<a target=\"_blank\" href=https://colab.research.google.com/notebooks/data_table.ipynb>data table notebook</a>'\n",
              "          + ' to learn more about interactive tables.';\n",
              "        element.innerHTML = '';\n",
              "        dataTable['output_type'] = 'display_data';\n",
              "        await google.colab.output.renderOutput(dataTable, element);\n",
              "        const docLink = document.createElement('div');\n",
              "        docLink.innerHTML = docLinkHtml;\n",
              "        element.appendChild(docLink);\n",
              "      }\n",
              "    </script>\n",
              "  </div>\n",
              "\n",
              "\n",
              "<div id=\"df-cbe14733-d971-4941-a267-052944061790\">\n",
              "  <button class=\"colab-df-quickchart\" onclick=\"quickchart('df-cbe14733-d971-4941-a267-052944061790')\"\n",
              "            title=\"Suggest charts\"\n",
              "            style=\"display:none;\">\n",
              "\n",
              "<svg xmlns=\"http://www.w3.org/2000/svg\" height=\"24px\"viewBox=\"0 0 24 24\"\n",
              "     width=\"24px\">\n",
              "    <g>\n",
              "        <path d=\"M19 3H5c-1.1 0-2 .9-2 2v14c0 1.1.9 2 2 2h14c1.1 0 2-.9 2-2V5c0-1.1-.9-2-2-2zM9 17H7v-7h2v7zm4 0h-2V7h2v10zm4 0h-2v-4h2v4z\"/>\n",
              "    </g>\n",
              "</svg>\n",
              "  </button>\n",
              "\n",
              "<style>\n",
              "  .colab-df-quickchart {\n",
              "      --bg-color: #E8F0FE;\n",
              "      --fill-color: #1967D2;\n",
              "      --hover-bg-color: #E2EBFA;\n",
              "      --hover-fill-color: #174EA6;\n",
              "      --disabled-fill-color: #AAA;\n",
              "      --disabled-bg-color: #DDD;\n",
              "  }\n",
              "\n",
              "  [theme=dark] .colab-df-quickchart {\n",
              "      --bg-color: #3B4455;\n",
              "      --fill-color: #D2E3FC;\n",
              "      --hover-bg-color: #434B5C;\n",
              "      --hover-fill-color: #FFFFFF;\n",
              "      --disabled-bg-color: #3B4455;\n",
              "      --disabled-fill-color: #666;\n",
              "  }\n",
              "\n",
              "  .colab-df-quickchart {\n",
              "    background-color: var(--bg-color);\n",
              "    border: none;\n",
              "    border-radius: 50%;\n",
              "    cursor: pointer;\n",
              "    display: none;\n",
              "    fill: var(--fill-color);\n",
              "    height: 32px;\n",
              "    padding: 0;\n",
              "    width: 32px;\n",
              "  }\n",
              "\n",
              "  .colab-df-quickchart:hover {\n",
              "    background-color: var(--hover-bg-color);\n",
              "    box-shadow: 0 1px 2px rgba(60, 64, 67, 0.3), 0 1px 3px 1px rgba(60, 64, 67, 0.15);\n",
              "    fill: var(--button-hover-fill-color);\n",
              "  }\n",
              "\n",
              "  .colab-df-quickchart-complete:disabled,\n",
              "  .colab-df-quickchart-complete:disabled:hover {\n",
              "    background-color: var(--disabled-bg-color);\n",
              "    fill: var(--disabled-fill-color);\n",
              "    box-shadow: none;\n",
              "  }\n",
              "\n",
              "  .colab-df-spinner {\n",
              "    border: 2px solid var(--fill-color);\n",
              "    border-color: transparent;\n",
              "    border-bottom-color: var(--fill-color);\n",
              "    animation:\n",
              "      spin 1s steps(1) infinite;\n",
              "  }\n",
              "\n",
              "  @keyframes spin {\n",
              "    0% {\n",
              "      border-color: transparent;\n",
              "      border-bottom-color: var(--fill-color);\n",
              "      border-left-color: var(--fill-color);\n",
              "    }\n",
              "    20% {\n",
              "      border-color: transparent;\n",
              "      border-left-color: var(--fill-color);\n",
              "      border-top-color: var(--fill-color);\n",
              "    }\n",
              "    30% {\n",
              "      border-color: transparent;\n",
              "      border-left-color: var(--fill-color);\n",
              "      border-top-color: var(--fill-color);\n",
              "      border-right-color: var(--fill-color);\n",
              "    }\n",
              "    40% {\n",
              "      border-color: transparent;\n",
              "      border-right-color: var(--fill-color);\n",
              "      border-top-color: var(--fill-color);\n",
              "    }\n",
              "    60% {\n",
              "      border-color: transparent;\n",
              "      border-right-color: var(--fill-color);\n",
              "    }\n",
              "    80% {\n",
              "      border-color: transparent;\n",
              "      border-right-color: var(--fill-color);\n",
              "      border-bottom-color: var(--fill-color);\n",
              "    }\n",
              "    90% {\n",
              "      border-color: transparent;\n",
              "      border-bottom-color: var(--fill-color);\n",
              "    }\n",
              "  }\n",
              "</style>\n",
              "\n",
              "  <script>\n",
              "    async function quickchart(key) {\n",
              "      const quickchartButtonEl =\n",
              "        document.querySelector('#' + key + ' button');\n",
              "      quickchartButtonEl.disabled = true;  // To prevent multiple clicks.\n",
              "      quickchartButtonEl.classList.add('colab-df-spinner');\n",
              "      try {\n",
              "        const charts = await google.colab.kernel.invokeFunction(\n",
              "            'suggestCharts', [key], {});\n",
              "      } catch (error) {\n",
              "        console.error('Error during call to suggestCharts:', error);\n",
              "      }\n",
              "      quickchartButtonEl.classList.remove('colab-df-spinner');\n",
              "      quickchartButtonEl.classList.add('colab-df-quickchart-complete');\n",
              "    }\n",
              "    (() => {\n",
              "      let quickchartButtonEl =\n",
              "        document.querySelector('#df-cbe14733-d971-4941-a267-052944061790 button');\n",
              "      quickchartButtonEl.style.display =\n",
              "        google.colab.kernel.accessAllowed ? 'block' : 'none';\n",
              "    })();\n",
              "  </script>\n",
              "</div>\n",
              "    </div>\n",
              "  </div>\n"
            ]
          },
          "metadata": {},
          "execution_count": 12
        }
      ]
    },
    {
      "cell_type": "markdown",
      "source": [
        "## 평점 분포 확인 그래프"
      ],
      "metadata": {
        "id": "HQjoL2uDlJlB"
      }
    },
    {
      "cell_type": "markdown",
      "source": [
        "### 그래프 그리기"
      ],
      "metadata": {
        "id": "Ey7WpxfuoZMG"
      }
    },
    {
      "cell_type": "code",
      "execution_count": 21,
      "metadata": {
        "colab": {
          "base_uri": "https://localhost:8080/",
          "height": 809
        },
        "id": "37lt6sRPU2c-",
        "outputId": "a14a3aad-4fed-4edc-c41b-f5eb26fbd5ec"
      },
      "outputs": [
        {
          "output_type": "display_data",
          "data": {
            "text/plain": [
              "<Figure size 2000x1000 with 1 Axes>"
            ],
            "image/png": "[encoded data removed]"
          },
          "metadata": {}
        }
      ],
      "source": [
        "import matplotlib.pyplot as plt\n",
        "import seaborn as sns\n",
        "plt.rcParams['font.family'] = 'NanumGothic'\n",
        "\n",
        "# 그래프 크기 설정\n",
        "plt.figure(figsize=(20, 10))\n",
        "\n",
        "# 평점 순서 지정 (오름차순)\n",
        "means_order = sorted(merge_df[\"가중평균\"].unique())\n",
        "\n",
        "# Seaborn countplot에 order 매개변수 추가\n",
        "sns.countplot(x=merge_df[\"가중평균\"], order=means_order)\n",
        "\n",
        "# 그래프 꾸미기\n",
        "object_cnt = merge_df[\"가중평균\"].value_counts()\n",
        "\n",
        "\n",
        "# 주석 추가\n",
        "for x, y, z in zip(object_cnt.index, object_cnt.values, object_cnt.values / object_cnt.sum() * 100):\n",
        "    # 값 인덱스 추가\n",
        "    plt.text(x, y + 70, f\"{y}\\n({round(z, 2)}%)\", ha='center', va='bottom', fontsize=12, color='black')\n",
        "\n",
        "\n",
        "\n",
        "\n",
        "# x축, y축 레이블 추가\n",
        "plt.xlabel(\"가중평점\")\n",
        "plt.ylabel(\"빈도\")\n",
        "\n",
        "# 그래프 제목 추가\n",
        "plt.title(\"가중평점 분포\")\n",
        "\n",
        "# 그리드 표시\n",
        "plt.grid(axis=\"y\", linestyle=\"--\", alpha=0.7)\n",
        "\n",
        "# 그래프 표시\n",
        "plt.show()\n"
      ]
    },
    {
      "cell_type": "markdown",
      "metadata": {
        "id": "jA573GX-qGCG"
      },
      "source": [
        "# Matrix Factorization Modeling"
      ]
    },
    {
      "cell_type": "markdown",
      "source": [
        "- [필독] 수정 방향\n",
        "  - 선호도 테이블 가중치를 반영한 평균평점의 id를 설정해야함: program_id\n",
        "  - 모델 학습 속성 테이블 새로 저장 후 불러와야 함: 사용자id, 선호운동id(종목+프로그래명 병합), 평균평점"
      ],
      "metadata": {
        "id": "RRM6VxLYFJNJ"
      }
    },
    {
      "cell_type": "markdown",
      "source": [
        "### SVD에 사용하는 surprise 패키지 설치 (한번만 실행)"
      ],
      "metadata": {
        "id": "X61bF2-WyHte"
      }
    },
    {
      "cell_type": "code",
      "execution_count": null,
      "metadata": {
        "colab": {
          "base_uri": "https://localhost:8080/"
        },
        "id": "UMgYGUPuXf7R",
        "outputId": "a51547fb-9607-453e-fbc6-af24264e1f10"
      },
      "outputs": [
        {
          "output_type": "stream",
          "name": "stdout",
          "text": [
            "Collecting scikit-surprise\n",
            "  Downloading scikit-surprise-1.1.3.tar.gz (771 kB)\n",
            "\u001b[?25l     \u001b[90m━━━━━━━━━━━━━━━━━━━━━━━━━━━━━━━━━━━━━━━━\u001b[0m \u001b[32m0.0/772.0 kB\u001b[0m \u001b[31m?\u001b[0m eta \u001b[36m-:--:--\u001b[0m\r\u001b[2K     \u001b[91m━━━━━━━\u001b[0m\u001b[91m╸\u001b[0m\u001b[90m━━━━━━━━━━━━━━━━━━━━━━━━━━━━━━━━\u001b[0m \u001b[32m153.6/772.0 kB\u001b[0m \u001b[31m4.3 MB/s\u001b[0m eta \u001b[36m0:00:01\u001b[0m\r\u001b[2K     \u001b[91m━━━━━━━━━━━━━━━━━━━━━━━━━━\u001b[0m\u001b[91m╸\u001b[0m\u001b[90m━━━━━━━━━━━━━\u001b[0m \u001b[32m512.0/772.0 kB\u001b[0m \u001b[31m7.3 MB/s\u001b[0m eta \u001b[36m0:00:01\u001b[0m\r\u001b[2K     \u001b[90m━━━━━━━━━━━━━━━━━━━━━━━━━━━━━━━━━━━━━━━━\u001b[0m \u001b[32m772.0/772.0 kB\u001b[0m \u001b[31m7.8 MB/s\u001b[0m eta \u001b[36m0:00:00\u001b[0m\n",
            "\u001b[?25h  Preparing metadata (setup.py) ... \u001b[?25l\u001b[?25hdone\n",
            "Requirement already satisfied: joblib>=1.0.0 in /usr/local/lib/python3.10/dist-packages (from scikit-surprise) (1.3.2)\n",
            "Requirement already satisfied: numpy>=1.17.3 in /usr/local/lib/python3.10/dist-packages (from scikit-surprise) (1.23.5)\n",
            "Requirement already satisfied: scipy>=1.3.2 in /usr/local/lib/python3.10/dist-packages (from scikit-surprise) (1.11.3)\n",
            "Building wheels for collected packages: scikit-surprise\n",
            "  Building wheel for scikit-surprise (setup.py) ... \u001b[?25l\u001b[?25hdone\n",
            "  Created wheel for scikit-surprise: filename=scikit_surprise-1.1.3-cp310-cp310-linux_x86_64.whl size=3163493 sha256=f320e072904d75109c83d1f8641b7ed0f9670b3fc02dd99b445635e41a002f24\n",
            "  Stored in directory: /root/.cache/pip/wheels/a5/ca/a8/4e28def53797fdc4363ca4af740db15a9c2f1595ebc51fb445\n",
            "Successfully built scikit-surprise\n",
            "Installing collected packages: scikit-surprise\n",
            "Successfully installed scikit-surprise-1.1.3\n"
          ]
        }
      ],
      "source": [
        "!pip install scikit-surprise"
      ]
    },
    {
      "cell_type": "markdown",
      "metadata": {
        "id": "9PCS3L4dWXo6"
      },
      "source": [
        "## MF-based (SVD) 모델 학습"
      ]
    },
    {
      "cell_type": "code",
      "execution_count": null,
      "metadata": {
        "colab": {
          "base_uri": "https://localhost:8080/",
          "height": 535
        },
        "id": "QUFjLth9WVgN",
        "outputId": "aa18a07d-9249-4b3c-8974-4731b5366c70"
      },
      "outputs": [
        {
          "output_type": "error",
          "ename": "KeyError",
          "evalue": "ignored",
          "traceback": [
            "\u001b[0;31m---------------------------------------------------------------------------\u001b[0m",
            "\u001b[0;31mKeyError\u001b[0m                                  Traceback (most recent call last)",
            "\u001b[0;32m/usr/local/lib/python3.10/dist-packages/pandas/core/indexes/base.py\u001b[0m in \u001b[0;36mget_loc\u001b[0;34m(self, key, method, tolerance)\u001b[0m\n\u001b[1;32m   3801\u001b[0m             \u001b[0;32mtry\u001b[0m\u001b[0;34m:\u001b[0m\u001b[0;34m\u001b[0m\u001b[0;34m\u001b[0m\u001b[0m\n\u001b[0;32m-> 3802\u001b[0;31m                 \u001b[0;32mreturn\u001b[0m \u001b[0mself\u001b[0m\u001b[0;34m.\u001b[0m\u001b[0m_engine\u001b[0m\u001b[0;34m.\u001b[0m\u001b[0mget_loc\u001b[0m\u001b[0;34m(\u001b[0m\u001b[0mcasted_key\u001b[0m\u001b[0;34m)\u001b[0m\u001b[0;34m\u001b[0m\u001b[0;34m\u001b[0m\u001b[0m\n\u001b[0m\u001b[1;32m   3803\u001b[0m             \u001b[0;32mexcept\u001b[0m \u001b[0mKeyError\u001b[0m \u001b[0;32mas\u001b[0m \u001b[0merr\u001b[0m\u001b[0;34m:\u001b[0m\u001b[0;34m\u001b[0m\u001b[0;34m\u001b[0m\u001b[0m\n",
            "\u001b[0;32m/usr/local/lib/python3.10/dist-packages/pandas/_libs/index.pyx\u001b[0m in \u001b[0;36mpandas._libs.index.IndexEngine.get_loc\u001b[0;34m()\u001b[0m\n",
            "\u001b[0;32m/usr/local/lib/python3.10/dist-packages/pandas/_libs/index.pyx\u001b[0m in \u001b[0;36mpandas._libs.index.IndexEngine.get_loc\u001b[0;34m()\u001b[0m\n",
            "\u001b[0;32mpandas/_libs/hashtable_class_helper.pxi\u001b[0m in \u001b[0;36mpandas._libs.hashtable.PyObjectHashTable.get_item\u001b[0;34m()\u001b[0m\n",
            "\u001b[0;32mpandas/_libs/hashtable_class_helper.pxi\u001b[0m in \u001b[0;36mpandas._libs.hashtable.PyObjectHashTable.get_item\u001b[0;34m()\u001b[0m\n",
            "\u001b[0;31mKeyError\u001b[0m: ('사용자', '프로그램명', '평균평점')",
            "\nThe above exception was the direct cause of the following exception:\n",
            "\u001b[0;31mKeyError\u001b[0m                                  Traceback (most recent call last)",
            "\u001b[0;32m<ipython-input-74-ab3bb9ff6b88>\u001b[0m in \u001b[0;36m<cell line: 10>\u001b[0;34m()\u001b[0m\n\u001b[1;32m      8\u001b[0m \u001b[0;31m# Reader, Dataset 오브젝트로 학습용 데이터셋 생성 및 분리\u001b[0m\u001b[0;34m\u001b[0m\u001b[0;34m\u001b[0m\u001b[0m\n\u001b[1;32m      9\u001b[0m \u001b[0mreader\u001b[0m \u001b[0;34m=\u001b[0m \u001b[0mReader\u001b[0m\u001b[0;34m(\u001b[0m\u001b[0mrating_scale\u001b[0m\u001b[0;34m=\u001b[0m\u001b[0;34m(\u001b[0m\u001b[0;36m5\u001b[0m\u001b[0;34m,\u001b[0m\u001b[0;36m10\u001b[0m\u001b[0;34m)\u001b[0m\u001b[0;34m)\u001b[0m    \u001b[0;31m#1~5점 사이의 rating점수가 있다는 것을 알려줌\u001b[0m\u001b[0;34m\u001b[0m\u001b[0;34m\u001b[0m\u001b[0m\n\u001b[0;32m---> 10\u001b[0;31m \u001b[0mdata\u001b[0m \u001b[0;34m=\u001b[0m \u001b[0mDataset\u001b[0m\u001b[0;34m.\u001b[0m\u001b[0mload_from_df\u001b[0m\u001b[0;34m(\u001b[0m\u001b[0mrating_df\u001b[0m\u001b[0;34m[\u001b[0m\u001b[0;34m\"사용자\"\u001b[0m\u001b[0;34m,\u001b[0m\u001b[0;34m\"프로그램명\"\u001b[0m\u001b[0;34m,\u001b[0m\u001b[0;34m\"평균평점\"\u001b[0m\u001b[0;34m]\u001b[0m\u001b[0;34m,\u001b[0m \u001b[0mreader\u001b[0m\u001b[0;34m)\u001b[0m\u001b[0;34m\u001b[0m\u001b[0;34m\u001b[0m\u001b[0m\n\u001b[0m\u001b[1;32m     11\u001b[0m \u001b[0mtrainset\u001b[0m\u001b[0;34m,\u001b[0m \u001b[0mtestset\u001b[0m \u001b[0;34m=\u001b[0m \u001b[0mtrain_test_split\u001b[0m\u001b[0;34m(\u001b[0m\u001b[0mdata\u001b[0m\u001b[0;34m,\u001b[0m \u001b[0mtest_size\u001b[0m\u001b[0;34m=\u001b[0m\u001b[0;36m0.25\u001b[0m\u001b[0;34m)\u001b[0m\u001b[0;34m\u001b[0m\u001b[0;34m\u001b[0m\u001b[0m\n\u001b[1;32m     12\u001b[0m \u001b[0;34m\u001b[0m\u001b[0m\n",
            "\u001b[0;32m/usr/local/lib/python3.10/dist-packages/pandas/core/frame.py\u001b[0m in \u001b[0;36m__getitem__\u001b[0;34m(self, key)\u001b[0m\n\u001b[1;32m   3805\u001b[0m             \u001b[0;32mif\u001b[0m \u001b[0mself\u001b[0m\u001b[0;34m.\u001b[0m\u001b[0mcolumns\u001b[0m\u001b[0;34m.\u001b[0m\u001b[0mnlevels\u001b[0m \u001b[0;34m>\u001b[0m \u001b[0;36m1\u001b[0m\u001b[0;34m:\u001b[0m\u001b[0;34m\u001b[0m\u001b[0;34m\u001b[0m\u001b[0m\n\u001b[1;32m   3806\u001b[0m                 \u001b[0;32mreturn\u001b[0m \u001b[0mself\u001b[0m\u001b[0;34m.\u001b[0m\u001b[0m_getitem_multilevel\u001b[0m\u001b[0;34m(\u001b[0m\u001b[0mkey\u001b[0m\u001b[0;34m)\u001b[0m\u001b[0;34m\u001b[0m\u001b[0;34m\u001b[0m\u001b[0m\n\u001b[0;32m-> 3807\u001b[0;31m             \u001b[0mindexer\u001b[0m \u001b[0;34m=\u001b[0m \u001b[0mself\u001b[0m\u001b[0;34m.\u001b[0m\u001b[0mcolumns\u001b[0m\u001b[0;34m.\u001b[0m\u001b[0mget_loc\u001b[0m\u001b[0;34m(\u001b[0m\u001b[0mkey\u001b[0m\u001b[0;34m)\u001b[0m\u001b[0;34m\u001b[0m\u001b[0;34m\u001b[0m\u001b[0m\n\u001b[0m\u001b[1;32m   3808\u001b[0m             \u001b[0;32mif\u001b[0m \u001b[0mis_integer\u001b[0m\u001b[0;34m(\u001b[0m\u001b[0mindexer\u001b[0m\u001b[0;34m)\u001b[0m\u001b[0;34m:\u001b[0m\u001b[0;34m\u001b[0m\u001b[0;34m\u001b[0m\u001b[0m\n\u001b[1;32m   3809\u001b[0m                 \u001b[0mindexer\u001b[0m \u001b[0;34m=\u001b[0m \u001b[0;34m[\u001b[0m\u001b[0mindexer\u001b[0m\u001b[0;34m]\u001b[0m\u001b[0;34m\u001b[0m\u001b[0;34m\u001b[0m\u001b[0m\n",
            "\u001b[0;32m/usr/local/lib/python3.10/dist-packages/pandas/core/indexes/base.py\u001b[0m in \u001b[0;36mget_loc\u001b[0;34m(self, key, method, tolerance)\u001b[0m\n\u001b[1;32m   3802\u001b[0m                 \u001b[0;32mreturn\u001b[0m \u001b[0mself\u001b[0m\u001b[0;34m.\u001b[0m\u001b[0m_engine\u001b[0m\u001b[0;34m.\u001b[0m\u001b[0mget_loc\u001b[0m\u001b[0;34m(\u001b[0m\u001b[0mcasted_key\u001b[0m\u001b[0;34m)\u001b[0m\u001b[0;34m\u001b[0m\u001b[0;34m\u001b[0m\u001b[0m\n\u001b[1;32m   3803\u001b[0m             \u001b[0;32mexcept\u001b[0m \u001b[0mKeyError\u001b[0m \u001b[0;32mas\u001b[0m \u001b[0merr\u001b[0m\u001b[0;34m:\u001b[0m\u001b[0;34m\u001b[0m\u001b[0;34m\u001b[0m\u001b[0m\n\u001b[0;32m-> 3804\u001b[0;31m                 \u001b[0;32mraise\u001b[0m \u001b[0mKeyError\u001b[0m\u001b[0;34m(\u001b[0m\u001b[0mkey\u001b[0m\u001b[0;34m)\u001b[0m \u001b[0;32mfrom\u001b[0m \u001b[0merr\u001b[0m\u001b[0;34m\u001b[0m\u001b[0;34m\u001b[0m\u001b[0m\n\u001b[0m\u001b[1;32m   3805\u001b[0m             \u001b[0;32mexcept\u001b[0m \u001b[0mTypeError\u001b[0m\u001b[0;34m:\u001b[0m\u001b[0;34m\u001b[0m\u001b[0;34m\u001b[0m\u001b[0m\n\u001b[1;32m   3806\u001b[0m                 \u001b[0;31m# If we have a listlike key, _check_indexing_error will raise\u001b[0m\u001b[0;34m\u001b[0m\u001b[0;34m\u001b[0m\u001b[0m\n",
            "\u001b[0;31mKeyError\u001b[0m: ('사용자', '프로그램명', '평균평점')"
          ]
        }
      ],
      "source": [
        "from surprise import SVD\n",
        "from surprise import Dataset, Reader\n",
        "from surprise import accuracy\n",
        "from surprise.model_selection import train_test_split\n",
        "import time\n",
        "\n",
        "\n",
        "# Reader, Dataset 오브젝트로 학습용 데이터셋 생성 및 분리\n",
        "reader = Reader(rating_scale=(5,10)) \t#1~5점 사이의 rating점수가 있다는 것을 알려줌\n",
        "data = Dataset.load_from_df(rating_df[\"사용자\",\"프로그램명\",\"평균평점\"], reader)\n",
        "trainset, testset = train_test_split(data, test_size=0.25)\n",
        "\n",
        "\n",
        "param_list = [10, 50, 100, 150, 200]\n",
        "rmse_list_by_factors = []\n",
        "ttime_list_by_factors = []\n",
        "\n",
        "# n_factor depth에 따른 RMSE 확인\n",
        "for n in param_list:\n",
        "   train_start = time.time()\n",
        "   algo = SVD(n_factors=n)\n",
        "   algo.fit(trainset)\n",
        "   train_end = time.time()\n",
        "   print(\"모델 훈련 시간: %.2f 초\" % (train_end - train_start))\n",
        "   print(f\"SVD 모델의 테스트 데이터셋 RMSE, n_factors={n}\")\n",
        "\n",
        "   # 모델 평가\n",
        "   predictions = algo.test(testset)\n",
        "   rmse_list_by_factors.append(accuracy.mse(predictions))\n",
        "   ttime_list_by_factors.append(train_end - train_start)\n",
        "\n",
        "   print(\"-\"*20)\n",
        "\n",
        "print(\"n_factors 탐색 완료.\")"
      ]
    },
    {
      "cell_type": "markdown",
      "metadata": {
        "id": "aHpFBYycaTTw"
      },
      "source": [
        "## n_factor에 따른 RMSE 시각화"
      ]
    },
    {
      "cell_type": "code",
      "execution_count": null,
      "metadata": {
        "colab": {
          "base_uri": "https://localhost:8080/",
          "height": 474
        },
        "id": "QHUtGLVqXL2P",
        "outputId": "d9bbd18c-f14e-42f3-f964-65780b3bb197"
      },
      "outputs": [
        {
          "output_type": "display_data",
          "data": {
            "text/plain": [
              "<Figure size 640x480 with 1 Axes>"
            ],
            "image/png": "[encoded data removed]"
          },
          "metadata": {}
        }
      ],
      "source": [
        "import matplotlib.pyplot as plt\n",
        "\n",
        "# plt의 plot 함수로 결과 시각화\n",
        "plt.plot(param_list, rmse_list_by_factors)\n",
        "plt.title(\"RMSE by n_factors of SVD\", fontsize=14) # 평점수가 많을수록, RMSE 값은 작아지고, 값이 작을수록 정확도가 높음 (0.1~1.0 사이)\n",
        "plt.xticks(param_list)\n",
        "plt.xlabel(\"n_factors\", fontsize=12)\n",
        "plt.ylabel(\"RMSE\", fontsize=12)\n",
        "\n",
        "for x, y in zip(param_list, rmse_list_by_factors):\n",
        "    plt.annotate(f'{round(y, 4)}', xy=(x, y), textcoords=\"data\", ha=\"center\")\n",
        "\n",
        "plt.show()"
      ]
    },
    {
      "cell_type": "markdown",
      "metadata": {
        "id": "6XMRG7ItaSrg"
      },
      "source": [
        "## 최종 RMSE 평가"
      ]
    },
    {
      "cell_type": "code",
      "execution_count": null,
      "metadata": {
        "colab": {
          "base_uri": "https://localhost:8080/"
        },
        "id": "9Z955e9wWeWJ",
        "outputId": "12fc59a6-e2a7-403d-ae5b-fd80df0e443b"
      },
      "outputs": [
        {
          "output_type": "stream",
          "name": "stdout",
          "text": [
            "RMSE: 1.3806\n"
          ]
        },
        {
          "output_type": "execute_result",
          "data": {
            "text/plain": [
              "1.3806325746128372"
            ]
          },
          "metadata": {},
          "execution_count": 68
        }
      ],
      "source": [
        "algo = SVD(n_factors=50, random_state=42)\n",
        "algo.fit(trainset)\n",
        "predictions = algo.test(testset)\n",
        "acc = accuracy.rmse(predictions)\n",
        "acc"
      ]
    },
    {
      "cell_type": "markdown",
      "metadata": {
        "id": "MyLIiVTMk0Nv"
      },
      "source": [
        "## 실시간 업데이트를 고려해서 SVD 모델 학습 (사용자 등록 순서대로 진행)"
      ]
    },
    {
      "cell_type": "code",
      "execution_count": null,
      "metadata": {
        "colab": {
          "base_uri": "https://localhost:8080/"
        },
        "id": "Kn67Kv6Pai6a",
        "outputId": "681377d7-23d5-48fe-a305-37949db3e24e"
      },
      "outputs": [
        {
          "output_type": "execute_result",
          "data": {
            "text/plain": [
              "800"
            ]
          },
          "metadata": {},
          "execution_count": 48
        }
      ],
      "source": [
        "rating_df['사용자'].quantile(q=0.8, interpolation='nearest') # 8:2로 나눌 수 있는 사용자 기준탐색 ---> 800 (1000개 기준)"
      ]
    },
    {
      "cell_type": "code",
      "source": [
        "train_df = rating_df[rating_df[\"사용자\"]< 800][[\"사용자\", \"선호운동\", \"평균평점\"]]\n",
        "test_df = rating_df[rating_df[\"사용자\"]>= 800][[\"사용자\", \"선호운동\", \"평균평점\"]]\n",
        "\n",
        "# 추출한 학습 데이터셋으로 SVD 모델 학습\n",
        "data = Dataset.load_from_df(train_df, reader=reader)\n",
        "train_data = data.build_full_trainset()\n",
        "\n",
        "algo = SVD(n_factors=10)\n",
        "algo.fit(train_data)"
      ],
      "metadata": {
        "colab": {
          "base_uri": "https://localhost:8080/"
        },
        "id": "RKbojQ2E5boL",
        "outputId": "b1309d75-c5df-4866-ea1c-b610f0d7a86a"
      },
      "execution_count": null,
      "outputs": [
        {
          "output_type": "execute_result",
          "data": {
            "text/plain": [
              "<surprise.prediction_algorithms.matrix_factorization.SVD at 0x7a8302112b30>"
            ]
          },
          "metadata": {},
          "execution_count": 49
        }
      ]
    },
    {
      "cell_type": "markdown",
      "metadata": {
        "id": "JlVMI4bnlFbt"
      },
      "source": [
        "## 테스트 및 평가"
      ]
    },
    {
      "cell_type": "code",
      "execution_count": null,
      "metadata": {
        "id": "lA-e4GgflDLO"
      },
      "outputs": [],
      "source": [
        "# 예측할 부분 (rating이 없는) 데이터만 추출\n",
        "test_data = train_data.build_anti_testset()\n",
        "\n",
        "\n",
        "predictions = algo.test(test_data)\n",
        "\n",
        "# test 평가를 위해 선택하지 않은 프로그램의 예상 점수를 dictionary 형태로 추출\n",
        "estimated_unselected_dict = {}\n",
        "\n",
        "for uid, iid, _, predicted_rating, _ in predictions:\n",
        "  if uid in estimated_unselected_dict:\n",
        "    estimated_unselected_dict[uid].append((iid, predicted_rating))\n",
        "  else:\n",
        "    estimated_unselected_dict[uid] = [(iid, predicted_rating)]"
      ]
    },
    {
      "cell_type": "markdown",
      "metadata": {
        "id": "f5po7y5rlQHA"
      },
      "source": [
        "# K파라미터 별 추천 결과 평가 및 시각화"
      ]
    },
    {
      "cell_type": "code",
      "execution_count": null,
      "metadata": {
        "id": "ZueRzr2pk7AH"
      },
      "outputs": [],
      "source": [
        "# user_watch_dict_list_test -> user_select_dict_list_test\n",
        "# actual_watch_list  -> actual_select_list\n",
        "# estimated_unwatched_dict -> estimated_unselected_dict\n",
        "# remaining_movies -> remaining_programs"
      ]
    },
    {
      "cell_type": "code",
      "source": [
        "# 사용자 정보를 담고 있는 DataFrame\n",
        "\n",
        "# 전체 사용자 정보 참조/불러오기\n",
        "user_select_dict_list_test = pd.DataFrame({\n",
        "    '사용자': rating_df[\"사용자\"],\n",
        "    '선택한 선호운동': rating_df[\"선호운동\"]\n",
        "})\n",
        "\n",
        "def get_map_topk(k):\n",
        "    user_metric = []\n",
        "    for user in estimated_unselected_dict:\n",
        "        estimated_list = estimated_unselected_dict[user].copy()\n",
        "        estimated_list.sort(key=lambda tup: tup[1], reverse=True)\n",
        "        try:\n",
        "            top_k_prefer_list = [program[0] for program in estimated_list[:k]]\n",
        "\n",
        "            # user_select_dict_list_test가 DataFrame이고, index에 user가 존재하는지 확인\n",
        "            if isinstance(user_select_dict_list_test, pd.DataFrame) and user in user_select_dict_list_test.index:\n",
        "                actual_select_list = user_select_dict_list_test.loc[user].values.tolist()\n",
        "\n",
        "                # 예측 값의 길이가 0인 경우 처리\n",
        "                if len(top_k_prefer_list) == 0:\n",
        "                    continue\n",
        "\n",
        "                # top_k_prefer_list의 길이가 k보다 작은 경우 처리\n",
        "                if len(top_k_prefer_list) < k:\n",
        "                    remaining_programs = set(program[0] for program in estimated_list[k:]) - set(top_k_prefer_list)\n",
        "                    top_k_prefer_list.extend(list(remaining_programs)[:k - len(top_k_prefer_list)])\n",
        "\n",
        "                user_metric.append((user, top_k_prefer_list, actual_select_list))\n",
        "            else:\n",
        "                print(f\"사용자 {user}에 대한 데이터가 올바르게 로드되지 않았습니다.\")\n",
        "        except Exception as e:\n",
        "            print(f\"사용자 {user}에 대한 오류: {str(e)}\")\n",
        "            # 필요한 대로 오류 처리\n",
        "\n",
        "    precision_list = []\n",
        "    for user in user_metric:\n",
        "        predictive_values = user[1]\n",
        "        actual_values = set(user[2])\n",
        "        tp = [pv for pv in predictive_values if pv in actual_values]\n",
        "        if len(predictive_values) > 0:\n",
        "            precision = len(tp) / len(predictive_values)\n",
        "            precision_list.append(precision)\n",
        "\n",
        "    if len(precision_list) > 0:\n",
        "        return sum(precision_list) / len(precision_list)\n",
        "    else:\n",
        "        return 0"
      ],
      "metadata": {
        "id": "yANbipM28glg"
      },
      "execution_count": null,
      "outputs": []
    },
    {
      "cell_type": "code",
      "execution_count": null,
      "metadata": {
        "colab": {
          "base_uri": "https://localhost:8080/",
          "height": 472
        },
        "id": "2XxV9lTKlhNp",
        "outputId": "a33a899b-2856-4fab-dded-c39f3bbb0fc7"
      },
      "outputs": [
        {
          "output_type": "display_data",
          "data": {
            "text/plain": [
              "<Figure size 640x480 with 1 Axes>"
            ],
            "image/png": "[encoded data removed]"
          },
          "metadata": {}
        }
      ],
      "source": [
        "k_param_list = range(1,5)\n",
        "map_list = []\n",
        "for k in k_param_list:\n",
        "  map_list.append(get_map_topk(k))\n",
        "\n",
        "plt.plot(k_param_list, map_list)\n",
        "plt.title('MAP by top k recommendation')# 대부분 추천시스템의 MAP는 0.1~0.2 사이\n",
        "plt.ylabel('MAP', fontsize=12)\n",
        "plt.xlabel('k', fontsize=12)\n",
        "plt.show()"
      ]
    },
    {
      "cell_type": "markdown",
      "source": [
        "# [필독] 추가 코드 작성 필요한 내용\n",
        "- 선호운동 - 종목명 - 프로그램명 데이터 범주화 및 테이블 생성&저장 코드 작성\n",
        "- 추천결과 데이터 프레임 확인\n",
        "- 추천 결과 프린트\n",
        "\n",
        "# [오픈AI 관련] 수정 방향 : 선호운동은 정제한 프로그램 현황 데이터와 연결 시켜야 함\n",
        "- 새로운 사용자의 데이터 입력시 추천시스템 작동하게 하기\n",
        "- 추천결과 내보내게 하기"
      ],
      "metadata": {
        "id": "0tUThbRnHVLq"
      }
    },
    {
      "cell_type": "code",
      "source": [],
      "metadata": {
        "id": "l01uGwk2jaj9"
      },
      "execution_count": null,
      "outputs": []
    }
  ],
  "metadata": {
    "colab": {
      "provenance": [],
      "collapsed_sections": [
        "9Rbh6e3Tfd8n",
        "qmUX6Q1Zn-vD",
        "HPwK0Oto87tm"
      ],
      "mount_file_id": "1EG1fJPe7lOblNRoca3tPhmwGC0gL4LAF",
      "authorship_tag": "ABX9TyNbnk6f20BEmsdLkuFdIIOe"
    },
    "kernelspec": {
      "display_name": "Python 3",
      "name": "python3"
    },
    "language_info": {
      "name": "python"
    }
  },
  "nbformat": 4,
  "nbformat_minor": 0
}